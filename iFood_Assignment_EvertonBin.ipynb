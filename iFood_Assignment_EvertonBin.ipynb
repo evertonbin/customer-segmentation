{
 "cells": [
  {
   "cell_type": "markdown",
   "metadata": {},
   "source": [
    "<img src=\"https://blog.deskfy.io/wp-content/uploads/2019/04/sucesso-da-marca-ifood-descubra-o-segredo-800x450.png\" width=\"150\" height=\"150\">"
   ]
  },
  {
   "cell_type": "markdown",
   "metadata": {},
   "source": [
    "# iFood Challenge\n",
    "<h3>Éverton Bin</h3>\n",
    "<br>"
   ]
  },
  {
   "cell_type": "markdown",
   "metadata": {},
   "source": [
    "## Table of Contents\n",
    "### [1. Introduction](#intro)\n",
    "\n",
    "### [2. Data Overview](#overview)\n",
    "#### $\\;\\;\\;\\;$[2.1 Getting to Know the Data](#knowingdata)\n",
    "#### $\\;\\;\\;\\;$[2.2 Feature Engineering](#feateng)\n",
    "#### $\\;\\;\\;\\;\\;\\;\\;\\;$[2.2.1 Age](#age)\n",
    "#### $\\;\\;\\;\\;\\;\\;\\;\\;$[2.2.2 Months Enrolled](#monthsenroll)\n",
    "#### $\\;\\;\\;\\;\\;\\;\\;\\;$[2.2.3 Total Amount Spent](#totalamount)\n",
    "#### $\\;\\;\\;\\;$[2.3 Treating NaN Values](#treatnan)\n",
    "\n",
    "### [3. Exploratory Data Analysis](#eda)\n",
    "#### $\\;\\;\\;\\;$[3.1 Products](#prods)\n",
    "#### $\\;\\;\\;\\;$[3.2 Channels](#channs)\n",
    "#### $\\;\\;\\;\\;$[3.3 Age](#age_analysis)\n",
    "#### $\\;\\;\\;\\;$[3.4 Education](#edu)\n",
    "#### $\\;\\;\\;\\;$[3.5 Income](#income)\n",
    "#### $\\;\\;\\;\\;$[3.6 - Overall Amount Spent on Products](#amount)\n",
    "#### $\\;\\;\\;\\;$[3.7 Marketing Campaigns Similarity](#campaigns)\n",
    "\n",
    "### [4. Cluster Analysis](#clusteranalysis)\n",
    "#### $\\;\\;\\;\\;$[4.1 Data Transformation](#datatrans)\n",
    "#### $\\;\\;\\;\\;$[4.2 The Elbow Method](#elbow)\n",
    "#### $\\;\\;\\;\\;$[4.3 Clustering Customers](#clustering)\n",
    "#### $\\;\\;\\;\\;$[4.4 Analyzing Clusters](#clustergroups)\n",
    "#### $\\;\\;\\;\\;\\;\\;\\;\\;$[4.4.1 The Traditional Shoppers](#clust0)\n",
    "#### $\\;\\;\\;\\;\\;\\;\\;\\;$[4.4.2 The Family-Starters Occasional Shoppers](#clust1)\n",
    "#### $\\;\\;\\;\\;\\;\\;\\;\\;$[4.4.3 The Light Shoppers](#clust2)\n",
    "#### $\\;\\;\\;\\;\\;\\;\\;\\;$[4.4.4 The Well-Educated Occasional Shoppers](#clust3)\n",
    "#### $\\;\\;\\;\\;$[4.5 Cluster Insights](#insights)\n",
    "\n",
    "### [5. Optimizing Marketing Campaign](#optimize)\n",
    "#### $\\;\\;\\;\\;$[5.1 Data Transformation Pipeline](#datapipe)\n",
    "#### $\\;\\;\\;\\;$[5.2 Learning Curves](#learningcurves)\n",
    "#### $\\;\\;\\;\\;$[5.3 Training and Evaluating the Models](#traineval)\n",
    "#### $\\;\\;\\;\\;$[5.4 Feature Importance](#featimp)\n",
    "#### $\\;\\;\\;\\;$[5.5 Second Attempt: GradientBoosting Classifier](#2ndattempt)\n",
    "\n",
    "### [6. Recommendations](#recomm)\n",
    "#### $\\;\\;\\;\\;$[6.1 Mobile App](#recomm1)\n",
    "#### $\\;\\;\\;\\;$[6.2 Loyalty Program](#recomm2)\n",
    "<br>"
   ]
  },
  {
   "cell_type": "markdown",
   "metadata": {},
   "source": [
    "## 1. Introduction<a name=\"intro\"></a>\n",
    "\n",
    "#### The Company\n",
    "\n",
    "Consider a well-established company operating in the retail food sector. Presently they have around\n",
    "several hundred thousand registered customers and serve almost one million consumers a year.\n",
    "They sell products from 5 major categories: wines, rare meat products, exotic fruits, specially\n",
    "prepared fish, and sweet products. These can further be divided into gold and regular products. The\n",
    "customers can order and acquire products through 3 sales channels: physical stores, catalogs, and\n",
    "the company’s website. Globally, the company had solid revenues and a healthy bottom line in the\n",
    "past 3 years, but the profit growth perspectives for the next 3 years are not promising... For this\n",
    "reason, several strategic initiatives are being considered to invert this situation. One is to improve\n",
    "the performance of marketing activities, with a special focus on marketing campaigns.\n",
    "\n",
    "#### The Marketing Department\n",
    "\n",
    "The marketing department was pressured to spend its annual budget more wisely. The CMO\n",
    "perceives the importance of having a more quantitative approach when making decisions, reason why\n",
    "a small team of data scientists was hired with a clear objective in mind: to build a predictive model\n",
    "which will support direct marketing initiatives. Desirably, the success of these activities will prove the\n",
    "value of the approach and convince the more skeptical within the company.\n",
    "\n",
    "#### The Objective\n",
    "\n",
    "The objective of the team is to build a predictive model that will produce the highest profit for the\n",
    "next direct marketing campaign, scheduled for the next month. The new campaign, sixth, aims at\n",
    "selling a new gadget to the Customer Database. To build the model, a pilot campaign involving\n",
    "2.240 customers were carried out. The customers were selected at random and contacted by phone\n",
    "regarding the acquisition of the gadget. During the following months, customers who bought the\n",
    "offer were properly labeled. The total cost of the sample campaign was 6.720MU and the revenue\n",
    "generated by the customers who accepted the offer was 3.674MU. Globally the campaign had a\n",
    "profit of -3.046MU. The success rate of the campaign was 15%. The objective is of the team is to\n",
    "develop a model that predicts customer behavior and to apply it to the rest of the customer base.\n",
    "Hopefully, the model will allow the company to cherry-pick the customers that are most likely to\n",
    "purchase the offer while leaving out the non-respondents, making the next campaign highly\n",
    "profitable. Moreover, other than maximizing the profit of the campaign, the CMO is interested in\n",
    "understanding to study the characteristic features of those customers who are willing to buy the\n",
    "gadget.\n",
    "\n",
    "#### Data Dictionary:\n",
    "* `AcceptedCmp1`: *1 if customer accepted the offer in the 1st campaign, 0 otherwise*;\n",
    "* `AcceptedCmp2`: *1 if customer accepted the offer in the 2nd campaign, 0 otherwise*;\n",
    "* `AcceptedCmp3`: *1 if customer accepted the offer in the 3rd campaign, 0 otherwise*;\n",
    "* `AcceptedCmp4`: *1 if customer accepted the offer in the 4th campaign, 0 otherwise*;\n",
    "* `AcceptedCmp5`: *1 if customer accepted the offer in the 5th campaign, 0 otherwise*;\n",
    "* `Response`: *(**target**) 1 if customer accepted the offer in the last campaign, 0 otherwise*;\n",
    "* `Complain`: *1 if customer complained in the last 2 years*;\n",
    "* `DtCustomer`: *date of customer's enrollment with the company*;\n",
    "* `Education`: *customer's level of education*;\n",
    "* `Marital`: *customer's marital status*;\n",
    "* `Kidhome`: *number of small children in customer's household*;\n",
    "* `Teenhome`: *number of teenagers in customer's household*;\n",
    "* `Income`: *customer's yearly household income*;\n",
    "* `MntFishProducts`: *amount spent on fish products in the last 2 years*;\n",
    "* `MntMeatProducts`: *amount spent on meat products in the last 2 years*;\n",
    "* `MntFruits`: *amount spent on fruits products in the last 2 years*;\n",
    "* `MntSweetProducts`: *amount spent on sweet products in the last 2 years*;\n",
    "* `MntWines`: *amount spent on wines products in the last 2 years*;\n",
    "* `MntGoldProds`: *amount spent on gold products in the last 2 years*;\n",
    "* `NumDealsPurchases`: *number of purchases made with discount*;\n",
    "* `NumCatalogPurchases`: *number of purchases made using catalog*;\n",
    "* `NumStorePurchases`: *number of purchases made directly in stores*;\n",
    "* `NumWebPurchases`: *number of purchases made through company's web site*;\n",
    "* `NumWebVisitsMonth`: *number of visits to company's web site in the last month*;\n",
    "* `Recency`: *number of days since the last purchase*."
   ]
  },
  {
   "cell_type": "code",
   "execution_count": 1,
   "metadata": {},
   "outputs": [],
   "source": [
    "# Importing libraries:\n",
    "import numpy as np\n",
    "import pandas as pd\n",
    "\n",
    "from datetime import timedelta\n",
    "\n",
    "from sklearn.preprocessing import OneHotEncoder, StandardScaler\n",
    "\n",
    "from sklearn.cluster import KMeans\n",
    "\n",
    "from sklearn.compose import ColumnTransformer\n",
    "from sklearn.pipeline import Pipeline\n",
    "\n",
    "from sklearn.model_selection import learning_curve\n",
    "\n",
    "from xgboost import XGBClassifier, plot_importance\n",
    "from sklearn.ensemble import GradientBoostingClassifier, AdaBoostClassifier\n",
    "from catboost import CatBoostClassifier\n",
    "\n",
    "from sklearn.model_selection import train_test_split\n",
    "\n",
    "from skopt import BayesSearchCV\n",
    "from skopt.space import Real, Categorical, Integer\n",
    "\n",
    "from sklearn.metrics import confusion_matrix, plot_confusion_matrix\n",
    "\n",
    "from imblearn.pipeline import Pipeline as Pipeline_imb\n",
    "from imblearn.over_sampling import SMOTE\n",
    "\n",
    "import matplotlib.pyplot as plt\n",
    "import seaborn as sns\n",
    "\n",
    "# Setting seaborn general style:\n",
    "sns.set_theme(style = \"whitegrid\", font_scale = 1.1)\n",
    "\n",
    "%matplotlib inline\n",
    "\n",
    "import warnings\n",
    "warnings.filterwarnings('ignore')"
   ]
  },
  {
   "cell_type": "markdown",
   "metadata": {},
   "source": [
    "## 2. Data Overview<a name=\"overview\"></a>"
   ]
  },
  {
   "cell_type": "markdown",
   "metadata": {},
   "source": [
    "### 2.1 Getting to Know the Data<a name=\"knowingdata\"></a>"
   ]
  },
  {
   "cell_type": "code",
   "execution_count": 2,
   "metadata": {},
   "outputs": [
    {
     "data": {
      "text/html": [
       "<div>\n",
       "<style scoped>\n",
       "    .dataframe tbody tr th:only-of-type {\n",
       "        vertical-align: middle;\n",
       "    }\n",
       "\n",
       "    .dataframe tbody tr th {\n",
       "        vertical-align: top;\n",
       "    }\n",
       "\n",
       "    .dataframe thead th {\n",
       "        text-align: right;\n",
       "    }\n",
       "</style>\n",
       "<table border=\"1\" class=\"dataframe\">\n",
       "  <thead>\n",
       "    <tr style=\"text-align: right;\">\n",
       "      <th></th>\n",
       "      <th>ID</th>\n",
       "      <th>Year_Birth</th>\n",
       "      <th>Education</th>\n",
       "      <th>Marital_Status</th>\n",
       "      <th>Income</th>\n",
       "      <th>Kidhome</th>\n",
       "      <th>Teenhome</th>\n",
       "      <th>Dt_Customer</th>\n",
       "      <th>Recency</th>\n",
       "      <th>MntWines</th>\n",
       "      <th>...</th>\n",
       "      <th>NumWebVisitsMonth</th>\n",
       "      <th>AcceptedCmp3</th>\n",
       "      <th>AcceptedCmp4</th>\n",
       "      <th>AcceptedCmp5</th>\n",
       "      <th>AcceptedCmp1</th>\n",
       "      <th>AcceptedCmp2</th>\n",
       "      <th>Complain</th>\n",
       "      <th>Z_CostContact</th>\n",
       "      <th>Z_Revenue</th>\n",
       "      <th>Response</th>\n",
       "    </tr>\n",
       "  </thead>\n",
       "  <tbody>\n",
       "    <tr>\n",
       "      <th>0</th>\n",
       "      <td>5524</td>\n",
       "      <td>1957</td>\n",
       "      <td>Graduation</td>\n",
       "      <td>Single</td>\n",
       "      <td>58138.0</td>\n",
       "      <td>0</td>\n",
       "      <td>0</td>\n",
       "      <td>2012-09-04</td>\n",
       "      <td>58</td>\n",
       "      <td>635</td>\n",
       "      <td>...</td>\n",
       "      <td>7</td>\n",
       "      <td>0</td>\n",
       "      <td>0</td>\n",
       "      <td>0</td>\n",
       "      <td>0</td>\n",
       "      <td>0</td>\n",
       "      <td>0</td>\n",
       "      <td>3</td>\n",
       "      <td>11</td>\n",
       "      <td>1</td>\n",
       "    </tr>\n",
       "    <tr>\n",
       "      <th>1</th>\n",
       "      <td>2174</td>\n",
       "      <td>1954</td>\n",
       "      <td>Graduation</td>\n",
       "      <td>Single</td>\n",
       "      <td>46344.0</td>\n",
       "      <td>1</td>\n",
       "      <td>1</td>\n",
       "      <td>2014-03-08</td>\n",
       "      <td>38</td>\n",
       "      <td>11</td>\n",
       "      <td>...</td>\n",
       "      <td>5</td>\n",
       "      <td>0</td>\n",
       "      <td>0</td>\n",
       "      <td>0</td>\n",
       "      <td>0</td>\n",
       "      <td>0</td>\n",
       "      <td>0</td>\n",
       "      <td>3</td>\n",
       "      <td>11</td>\n",
       "      <td>0</td>\n",
       "    </tr>\n",
       "    <tr>\n",
       "      <th>2</th>\n",
       "      <td>4141</td>\n",
       "      <td>1965</td>\n",
       "      <td>Graduation</td>\n",
       "      <td>Together</td>\n",
       "      <td>71613.0</td>\n",
       "      <td>0</td>\n",
       "      <td>0</td>\n",
       "      <td>2013-08-21</td>\n",
       "      <td>26</td>\n",
       "      <td>426</td>\n",
       "      <td>...</td>\n",
       "      <td>4</td>\n",
       "      <td>0</td>\n",
       "      <td>0</td>\n",
       "      <td>0</td>\n",
       "      <td>0</td>\n",
       "      <td>0</td>\n",
       "      <td>0</td>\n",
       "      <td>3</td>\n",
       "      <td>11</td>\n",
       "      <td>0</td>\n",
       "    </tr>\n",
       "    <tr>\n",
       "      <th>3</th>\n",
       "      <td>6182</td>\n",
       "      <td>1984</td>\n",
       "      <td>Graduation</td>\n",
       "      <td>Together</td>\n",
       "      <td>26646.0</td>\n",
       "      <td>1</td>\n",
       "      <td>0</td>\n",
       "      <td>2014-02-10</td>\n",
       "      <td>26</td>\n",
       "      <td>11</td>\n",
       "      <td>...</td>\n",
       "      <td>6</td>\n",
       "      <td>0</td>\n",
       "      <td>0</td>\n",
       "      <td>0</td>\n",
       "      <td>0</td>\n",
       "      <td>0</td>\n",
       "      <td>0</td>\n",
       "      <td>3</td>\n",
       "      <td>11</td>\n",
       "      <td>0</td>\n",
       "    </tr>\n",
       "    <tr>\n",
       "      <th>4</th>\n",
       "      <td>5324</td>\n",
       "      <td>1981</td>\n",
       "      <td>PhD</td>\n",
       "      <td>Married</td>\n",
       "      <td>58293.0</td>\n",
       "      <td>1</td>\n",
       "      <td>0</td>\n",
       "      <td>2014-01-19</td>\n",
       "      <td>94</td>\n",
       "      <td>173</td>\n",
       "      <td>...</td>\n",
       "      <td>5</td>\n",
       "      <td>0</td>\n",
       "      <td>0</td>\n",
       "      <td>0</td>\n",
       "      <td>0</td>\n",
       "      <td>0</td>\n",
       "      <td>0</td>\n",
       "      <td>3</td>\n",
       "      <td>11</td>\n",
       "      <td>0</td>\n",
       "    </tr>\n",
       "  </tbody>\n",
       "</table>\n",
       "<p>5 rows × 29 columns</p>\n",
       "</div>"
      ],
      "text/plain": [
       "     ID  Year_Birth   Education Marital_Status   Income  Kidhome  Teenhome  \\\n",
       "0  5524        1957  Graduation         Single  58138.0        0         0   \n",
       "1  2174        1954  Graduation         Single  46344.0        1         1   \n",
       "2  4141        1965  Graduation       Together  71613.0        0         0   \n",
       "3  6182        1984  Graduation       Together  26646.0        1         0   \n",
       "4  5324        1981         PhD        Married  58293.0        1         0   \n",
       "\n",
       "  Dt_Customer  Recency  MntWines  ...  NumWebVisitsMonth  AcceptedCmp3  \\\n",
       "0  2012-09-04       58       635  ...                  7             0   \n",
       "1  2014-03-08       38        11  ...                  5             0   \n",
       "2  2013-08-21       26       426  ...                  4             0   \n",
       "3  2014-02-10       26        11  ...                  6             0   \n",
       "4  2014-01-19       94       173  ...                  5             0   \n",
       "\n",
       "   AcceptedCmp4  AcceptedCmp5  AcceptedCmp1  AcceptedCmp2  Complain  \\\n",
       "0             0             0             0             0         0   \n",
       "1             0             0             0             0         0   \n",
       "2             0             0             0             0         0   \n",
       "3             0             0             0             0         0   \n",
       "4             0             0             0             0         0   \n",
       "\n",
       "   Z_CostContact  Z_Revenue  Response  \n",
       "0              3         11         1  \n",
       "1              3         11         0  \n",
       "2              3         11         0  \n",
       "3              3         11         0  \n",
       "4              3         11         0  \n",
       "\n",
       "[5 rows x 29 columns]"
      ]
     },
     "execution_count": 2,
     "metadata": {},
     "output_type": "execute_result"
    }
   ],
   "source": [
    "# Reading data:\n",
    "cust_df = pd.read_csv('ml_project1_data.csv', parse_dates = [7])\n",
    "cust_df.head()"
   ]
  },
  {
   "cell_type": "code",
   "execution_count": 3,
   "metadata": {},
   "outputs": [
    {
     "name": "stdout",
     "output_type": "stream",
     "text": [
      "The dataset contains 2240 observations and 29 different features.\n",
      "\n",
      "There are 2240 unique customers.\n"
     ]
    }
   ],
   "source": [
    "# Checking dataset numbers:\n",
    "print('The dataset contains {} observations and {} different features.'.format(cust_df.shape[0], cust_df.shape[1]))\n",
    "print('\\nThere are {} unique customers.'.format(len(cust_df.ID.unique())))"
   ]
  },
  {
   "cell_type": "code",
   "execution_count": 4,
   "metadata": {},
   "outputs": [
    {
     "data": {
      "text/plain": [
       "ID                      0\n",
       "Year_Birth              0\n",
       "Education               0\n",
       "Marital_Status          0\n",
       "Income                 24\n",
       "Kidhome                 0\n",
       "Teenhome                0\n",
       "Dt_Customer             0\n",
       "Recency                 0\n",
       "MntWines                0\n",
       "MntFruits               0\n",
       "MntMeatProducts         0\n",
       "MntFishProducts         0\n",
       "MntSweetProducts        0\n",
       "MntGoldProds            0\n",
       "NumDealsPurchases       0\n",
       "NumWebPurchases         0\n",
       "NumCatalogPurchases     0\n",
       "NumStorePurchases       0\n",
       "NumWebVisitsMonth       0\n",
       "AcceptedCmp3            0\n",
       "AcceptedCmp4            0\n",
       "AcceptedCmp5            0\n",
       "AcceptedCmp1            0\n",
       "AcceptedCmp2            0\n",
       "Complain                0\n",
       "Z_CostContact           0\n",
       "Z_Revenue               0\n",
       "Response                0\n",
       "dtype: int64"
      ]
     },
     "execution_count": 4,
     "metadata": {},
     "output_type": "execute_result"
    }
   ],
   "source": [
    "# Checking nan values:\n",
    "cust_df.isnull().sum()"
   ]
  },
  {
   "cell_type": "markdown",
   "metadata": {},
   "source": [
    "Only the `Income` feature presents *nan* values, occurring in 24 observations.\n",
    "\n",
    "These *nan* values will receive further treatment."
   ]
  },
  {
   "cell_type": "code",
   "execution_count": 5,
   "metadata": {},
   "outputs": [
    {
     "data": {
      "text/plain": [
       "ID                              int64\n",
       "Year_Birth                      int64\n",
       "Education                      object\n",
       "Marital_Status                 object\n",
       "Income                        float64\n",
       "Kidhome                         int64\n",
       "Teenhome                        int64\n",
       "Dt_Customer            datetime64[ns]\n",
       "Recency                         int64\n",
       "MntWines                        int64\n",
       "MntFruits                       int64\n",
       "MntMeatProducts                 int64\n",
       "MntFishProducts                 int64\n",
       "MntSweetProducts                int64\n",
       "MntGoldProds                    int64\n",
       "NumDealsPurchases               int64\n",
       "NumWebPurchases                 int64\n",
       "NumCatalogPurchases             int64\n",
       "NumStorePurchases               int64\n",
       "NumWebVisitsMonth               int64\n",
       "AcceptedCmp3                    int64\n",
       "AcceptedCmp4                    int64\n",
       "AcceptedCmp5                    int64\n",
       "AcceptedCmp1                    int64\n",
       "AcceptedCmp2                    int64\n",
       "Complain                        int64\n",
       "Z_CostContact                   int64\n",
       "Z_Revenue                       int64\n",
       "Response                        int64\n",
       "dtype: object"
      ]
     },
     "execution_count": 5,
     "metadata": {},
     "output_type": "execute_result"
    }
   ],
   "source": [
    "# Checking features dtypes:\n",
    "cust_df.dtypes"
   ]
  },
  {
   "cell_type": "markdown",
   "metadata": {},
   "source": [
    "It looks good!\n",
    "\n",
    "No *dtype* transformation will be applied for now."
   ]
  },
  {
   "cell_type": "code",
   "execution_count": 6,
   "metadata": {},
   "outputs": [
    {
     "data": {
      "text/html": [
       "<div>\n",
       "<style scoped>\n",
       "    .dataframe tbody tr th:only-of-type {\n",
       "        vertical-align: middle;\n",
       "    }\n",
       "\n",
       "    .dataframe tbody tr th {\n",
       "        vertical-align: top;\n",
       "    }\n",
       "\n",
       "    .dataframe thead th {\n",
       "        text-align: right;\n",
       "    }\n",
       "</style>\n",
       "<table border=\"1\" class=\"dataframe\">\n",
       "  <thead>\n",
       "    <tr style=\"text-align: right;\">\n",
       "      <th></th>\n",
       "      <th>Year_Birth</th>\n",
       "      <th>Income</th>\n",
       "      <th>Kidhome</th>\n",
       "      <th>Teenhome</th>\n",
       "      <th>Recency</th>\n",
       "      <th>MntWines</th>\n",
       "      <th>MntFruits</th>\n",
       "      <th>MntMeatProducts</th>\n",
       "      <th>MntFishProducts</th>\n",
       "    </tr>\n",
       "  </thead>\n",
       "  <tbody>\n",
       "    <tr>\n",
       "      <th>count</th>\n",
       "      <td>2240.000000</td>\n",
       "      <td>2216.000000</td>\n",
       "      <td>2240.000000</td>\n",
       "      <td>2240.000000</td>\n",
       "      <td>2240.000000</td>\n",
       "      <td>2240.000000</td>\n",
       "      <td>2240.000000</td>\n",
       "      <td>2240.000000</td>\n",
       "      <td>2240.000000</td>\n",
       "    </tr>\n",
       "    <tr>\n",
       "      <th>mean</th>\n",
       "      <td>1968.805804</td>\n",
       "      <td>52247.251354</td>\n",
       "      <td>0.444196</td>\n",
       "      <td>0.506250</td>\n",
       "      <td>49.109375</td>\n",
       "      <td>303.935714</td>\n",
       "      <td>26.302232</td>\n",
       "      <td>166.950000</td>\n",
       "      <td>37.525446</td>\n",
       "    </tr>\n",
       "    <tr>\n",
       "      <th>std</th>\n",
       "      <td>11.984069</td>\n",
       "      <td>25173.076661</td>\n",
       "      <td>0.538398</td>\n",
       "      <td>0.544538</td>\n",
       "      <td>28.962453</td>\n",
       "      <td>336.597393</td>\n",
       "      <td>39.773434</td>\n",
       "      <td>225.715373</td>\n",
       "      <td>54.628979</td>\n",
       "    </tr>\n",
       "    <tr>\n",
       "      <th>min</th>\n",
       "      <td>1893.000000</td>\n",
       "      <td>1730.000000</td>\n",
       "      <td>0.000000</td>\n",
       "      <td>0.000000</td>\n",
       "      <td>0.000000</td>\n",
       "      <td>0.000000</td>\n",
       "      <td>0.000000</td>\n",
       "      <td>0.000000</td>\n",
       "      <td>0.000000</td>\n",
       "    </tr>\n",
       "    <tr>\n",
       "      <th>25%</th>\n",
       "      <td>1959.000000</td>\n",
       "      <td>35303.000000</td>\n",
       "      <td>0.000000</td>\n",
       "      <td>0.000000</td>\n",
       "      <td>24.000000</td>\n",
       "      <td>23.750000</td>\n",
       "      <td>1.000000</td>\n",
       "      <td>16.000000</td>\n",
       "      <td>3.000000</td>\n",
       "    </tr>\n",
       "    <tr>\n",
       "      <th>50%</th>\n",
       "      <td>1970.000000</td>\n",
       "      <td>51381.500000</td>\n",
       "      <td>0.000000</td>\n",
       "      <td>0.000000</td>\n",
       "      <td>49.000000</td>\n",
       "      <td>173.500000</td>\n",
       "      <td>8.000000</td>\n",
       "      <td>67.000000</td>\n",
       "      <td>12.000000</td>\n",
       "    </tr>\n",
       "    <tr>\n",
       "      <th>75%</th>\n",
       "      <td>1977.000000</td>\n",
       "      <td>68522.000000</td>\n",
       "      <td>1.000000</td>\n",
       "      <td>1.000000</td>\n",
       "      <td>74.000000</td>\n",
       "      <td>504.250000</td>\n",
       "      <td>33.000000</td>\n",
       "      <td>232.000000</td>\n",
       "      <td>50.000000</td>\n",
       "    </tr>\n",
       "    <tr>\n",
       "      <th>max</th>\n",
       "      <td>1996.000000</td>\n",
       "      <td>666666.000000</td>\n",
       "      <td>2.000000</td>\n",
       "      <td>2.000000</td>\n",
       "      <td>99.000000</td>\n",
       "      <td>1493.000000</td>\n",
       "      <td>199.000000</td>\n",
       "      <td>1725.000000</td>\n",
       "      <td>259.000000</td>\n",
       "    </tr>\n",
       "  </tbody>\n",
       "</table>\n",
       "</div>"
      ],
      "text/plain": [
       "        Year_Birth         Income      Kidhome     Teenhome      Recency  \\\n",
       "count  2240.000000    2216.000000  2240.000000  2240.000000  2240.000000   \n",
       "mean   1968.805804   52247.251354     0.444196     0.506250    49.109375   \n",
       "std      11.984069   25173.076661     0.538398     0.544538    28.962453   \n",
       "min    1893.000000    1730.000000     0.000000     0.000000     0.000000   \n",
       "25%    1959.000000   35303.000000     0.000000     0.000000    24.000000   \n",
       "50%    1970.000000   51381.500000     0.000000     0.000000    49.000000   \n",
       "75%    1977.000000   68522.000000     1.000000     1.000000    74.000000   \n",
       "max    1996.000000  666666.000000     2.000000     2.000000    99.000000   \n",
       "\n",
       "          MntWines    MntFruits  MntMeatProducts  MntFishProducts  \n",
       "count  2240.000000  2240.000000      2240.000000      2240.000000  \n",
       "mean    303.935714    26.302232       166.950000        37.525446  \n",
       "std     336.597393    39.773434       225.715373        54.628979  \n",
       "min       0.000000     0.000000         0.000000         0.000000  \n",
       "25%      23.750000     1.000000        16.000000         3.000000  \n",
       "50%     173.500000     8.000000        67.000000        12.000000  \n",
       "75%     504.250000    33.000000       232.000000        50.000000  \n",
       "max    1493.000000   199.000000      1725.000000       259.000000  "
      ]
     },
     "execution_count": 6,
     "metadata": {},
     "output_type": "execute_result"
    }
   ],
   "source": [
    "# Checking general statistics part 1:\n",
    "cust_df.iloc[:,1:13].describe()"
   ]
  },
  {
   "cell_type": "code",
   "execution_count": 7,
   "metadata": {},
   "outputs": [
    {
     "data": {
      "text/html": [
       "<div>\n",
       "<style scoped>\n",
       "    .dataframe tbody tr th:only-of-type {\n",
       "        vertical-align: middle;\n",
       "    }\n",
       "\n",
       "    .dataframe tbody tr th {\n",
       "        vertical-align: top;\n",
       "    }\n",
       "\n",
       "    .dataframe thead th {\n",
       "        text-align: right;\n",
       "    }\n",
       "</style>\n",
       "<table border=\"1\" class=\"dataframe\">\n",
       "  <thead>\n",
       "    <tr style=\"text-align: right;\">\n",
       "      <th></th>\n",
       "      <th>MntSweetProducts</th>\n",
       "      <th>MntGoldProds</th>\n",
       "      <th>NumDealsPurchases</th>\n",
       "      <th>NumWebPurchases</th>\n",
       "      <th>NumCatalogPurchases</th>\n",
       "      <th>NumStorePurchases</th>\n",
       "      <th>NumWebVisitsMonth</th>\n",
       "    </tr>\n",
       "  </thead>\n",
       "  <tbody>\n",
       "    <tr>\n",
       "      <th>count</th>\n",
       "      <td>2240.000000</td>\n",
       "      <td>2240.000000</td>\n",
       "      <td>2240.000000</td>\n",
       "      <td>2240.000000</td>\n",
       "      <td>2240.000000</td>\n",
       "      <td>2240.000000</td>\n",
       "      <td>2240.000000</td>\n",
       "    </tr>\n",
       "    <tr>\n",
       "      <th>mean</th>\n",
       "      <td>27.062946</td>\n",
       "      <td>44.021875</td>\n",
       "      <td>2.325000</td>\n",
       "      <td>4.084821</td>\n",
       "      <td>2.662054</td>\n",
       "      <td>5.790179</td>\n",
       "      <td>5.316518</td>\n",
       "    </tr>\n",
       "    <tr>\n",
       "      <th>std</th>\n",
       "      <td>41.280498</td>\n",
       "      <td>52.167439</td>\n",
       "      <td>1.932238</td>\n",
       "      <td>2.778714</td>\n",
       "      <td>2.923101</td>\n",
       "      <td>3.250958</td>\n",
       "      <td>2.426645</td>\n",
       "    </tr>\n",
       "    <tr>\n",
       "      <th>min</th>\n",
       "      <td>0.000000</td>\n",
       "      <td>0.000000</td>\n",
       "      <td>0.000000</td>\n",
       "      <td>0.000000</td>\n",
       "      <td>0.000000</td>\n",
       "      <td>0.000000</td>\n",
       "      <td>0.000000</td>\n",
       "    </tr>\n",
       "    <tr>\n",
       "      <th>25%</th>\n",
       "      <td>1.000000</td>\n",
       "      <td>9.000000</td>\n",
       "      <td>1.000000</td>\n",
       "      <td>2.000000</td>\n",
       "      <td>0.000000</td>\n",
       "      <td>3.000000</td>\n",
       "      <td>3.000000</td>\n",
       "    </tr>\n",
       "    <tr>\n",
       "      <th>50%</th>\n",
       "      <td>8.000000</td>\n",
       "      <td>24.000000</td>\n",
       "      <td>2.000000</td>\n",
       "      <td>4.000000</td>\n",
       "      <td>2.000000</td>\n",
       "      <td>5.000000</td>\n",
       "      <td>6.000000</td>\n",
       "    </tr>\n",
       "    <tr>\n",
       "      <th>75%</th>\n",
       "      <td>33.000000</td>\n",
       "      <td>56.000000</td>\n",
       "      <td>3.000000</td>\n",
       "      <td>6.000000</td>\n",
       "      <td>4.000000</td>\n",
       "      <td>8.000000</td>\n",
       "      <td>7.000000</td>\n",
       "    </tr>\n",
       "    <tr>\n",
       "      <th>max</th>\n",
       "      <td>263.000000</td>\n",
       "      <td>362.000000</td>\n",
       "      <td>15.000000</td>\n",
       "      <td>27.000000</td>\n",
       "      <td>28.000000</td>\n",
       "      <td>13.000000</td>\n",
       "      <td>20.000000</td>\n",
       "    </tr>\n",
       "  </tbody>\n",
       "</table>\n",
       "</div>"
      ],
      "text/plain": [
       "       MntSweetProducts  MntGoldProds  NumDealsPurchases  NumWebPurchases  \\\n",
       "count       2240.000000   2240.000000        2240.000000      2240.000000   \n",
       "mean          27.062946     44.021875           2.325000         4.084821   \n",
       "std           41.280498     52.167439           1.932238         2.778714   \n",
       "min            0.000000      0.000000           0.000000         0.000000   \n",
       "25%            1.000000      9.000000           1.000000         2.000000   \n",
       "50%            8.000000     24.000000           2.000000         4.000000   \n",
       "75%           33.000000     56.000000           3.000000         6.000000   \n",
       "max          263.000000    362.000000          15.000000        27.000000   \n",
       "\n",
       "       NumCatalogPurchases  NumStorePurchases  NumWebVisitsMonth  \n",
       "count          2240.000000        2240.000000        2240.000000  \n",
       "mean              2.662054           5.790179           5.316518  \n",
       "std               2.923101           3.250958           2.426645  \n",
       "min               0.000000           0.000000           0.000000  \n",
       "25%               0.000000           3.000000           3.000000  \n",
       "50%               2.000000           5.000000           6.000000  \n",
       "75%               4.000000           8.000000           7.000000  \n",
       "max              28.000000          13.000000          20.000000  "
      ]
     },
     "execution_count": 7,
     "metadata": {},
     "output_type": "execute_result"
    }
   ],
   "source": [
    "# Checking general statistics part 2:\n",
    "cust_df.iloc[:,13:20].describe()"
   ]
  },
  {
   "cell_type": "code",
   "execution_count": 8,
   "metadata": {},
   "outputs": [
    {
     "data": {
      "text/html": [
       "<div>\n",
       "<style scoped>\n",
       "    .dataframe tbody tr th:only-of-type {\n",
       "        vertical-align: middle;\n",
       "    }\n",
       "\n",
       "    .dataframe tbody tr th {\n",
       "        vertical-align: top;\n",
       "    }\n",
       "\n",
       "    .dataframe thead th {\n",
       "        text-align: right;\n",
       "    }\n",
       "</style>\n",
       "<table border=\"1\" class=\"dataframe\">\n",
       "  <thead>\n",
       "    <tr style=\"text-align: right;\">\n",
       "      <th></th>\n",
       "      <th>AcceptedCmp3</th>\n",
       "      <th>AcceptedCmp4</th>\n",
       "      <th>AcceptedCmp5</th>\n",
       "      <th>AcceptedCmp1</th>\n",
       "      <th>AcceptedCmp2</th>\n",
       "      <th>Complain</th>\n",
       "      <th>Z_CostContact</th>\n",
       "      <th>Z_Revenue</th>\n",
       "      <th>Response</th>\n",
       "    </tr>\n",
       "  </thead>\n",
       "  <tbody>\n",
       "    <tr>\n",
       "      <th>count</th>\n",
       "      <td>2240.000000</td>\n",
       "      <td>2240.000000</td>\n",
       "      <td>2240.000000</td>\n",
       "      <td>2240.000000</td>\n",
       "      <td>2240.000000</td>\n",
       "      <td>2240.000000</td>\n",
       "      <td>2240.0</td>\n",
       "      <td>2240.0</td>\n",
       "      <td>2240.000000</td>\n",
       "    </tr>\n",
       "    <tr>\n",
       "      <th>mean</th>\n",
       "      <td>0.072768</td>\n",
       "      <td>0.074554</td>\n",
       "      <td>0.072768</td>\n",
       "      <td>0.064286</td>\n",
       "      <td>0.013393</td>\n",
       "      <td>0.009375</td>\n",
       "      <td>3.0</td>\n",
       "      <td>11.0</td>\n",
       "      <td>0.149107</td>\n",
       "    </tr>\n",
       "    <tr>\n",
       "      <th>std</th>\n",
       "      <td>0.259813</td>\n",
       "      <td>0.262728</td>\n",
       "      <td>0.259813</td>\n",
       "      <td>0.245316</td>\n",
       "      <td>0.114976</td>\n",
       "      <td>0.096391</td>\n",
       "      <td>0.0</td>\n",
       "      <td>0.0</td>\n",
       "      <td>0.356274</td>\n",
       "    </tr>\n",
       "    <tr>\n",
       "      <th>min</th>\n",
       "      <td>0.000000</td>\n",
       "      <td>0.000000</td>\n",
       "      <td>0.000000</td>\n",
       "      <td>0.000000</td>\n",
       "      <td>0.000000</td>\n",
       "      <td>0.000000</td>\n",
       "      <td>3.0</td>\n",
       "      <td>11.0</td>\n",
       "      <td>0.000000</td>\n",
       "    </tr>\n",
       "    <tr>\n",
       "      <th>25%</th>\n",
       "      <td>0.000000</td>\n",
       "      <td>0.000000</td>\n",
       "      <td>0.000000</td>\n",
       "      <td>0.000000</td>\n",
       "      <td>0.000000</td>\n",
       "      <td>0.000000</td>\n",
       "      <td>3.0</td>\n",
       "      <td>11.0</td>\n",
       "      <td>0.000000</td>\n",
       "    </tr>\n",
       "    <tr>\n",
       "      <th>50%</th>\n",
       "      <td>0.000000</td>\n",
       "      <td>0.000000</td>\n",
       "      <td>0.000000</td>\n",
       "      <td>0.000000</td>\n",
       "      <td>0.000000</td>\n",
       "      <td>0.000000</td>\n",
       "      <td>3.0</td>\n",
       "      <td>11.0</td>\n",
       "      <td>0.000000</td>\n",
       "    </tr>\n",
       "    <tr>\n",
       "      <th>75%</th>\n",
       "      <td>0.000000</td>\n",
       "      <td>0.000000</td>\n",
       "      <td>0.000000</td>\n",
       "      <td>0.000000</td>\n",
       "      <td>0.000000</td>\n",
       "      <td>0.000000</td>\n",
       "      <td>3.0</td>\n",
       "      <td>11.0</td>\n",
       "      <td>0.000000</td>\n",
       "    </tr>\n",
       "    <tr>\n",
       "      <th>max</th>\n",
       "      <td>1.000000</td>\n",
       "      <td>1.000000</td>\n",
       "      <td>1.000000</td>\n",
       "      <td>1.000000</td>\n",
       "      <td>1.000000</td>\n",
       "      <td>1.000000</td>\n",
       "      <td>3.0</td>\n",
       "      <td>11.0</td>\n",
       "      <td>1.000000</td>\n",
       "    </tr>\n",
       "  </tbody>\n",
       "</table>\n",
       "</div>"
      ],
      "text/plain": [
       "       AcceptedCmp3  AcceptedCmp4  AcceptedCmp5  AcceptedCmp1  AcceptedCmp2  \\\n",
       "count   2240.000000   2240.000000   2240.000000   2240.000000   2240.000000   \n",
       "mean       0.072768      0.074554      0.072768      0.064286      0.013393   \n",
       "std        0.259813      0.262728      0.259813      0.245316      0.114976   \n",
       "min        0.000000      0.000000      0.000000      0.000000      0.000000   \n",
       "25%        0.000000      0.000000      0.000000      0.000000      0.000000   \n",
       "50%        0.000000      0.000000      0.000000      0.000000      0.000000   \n",
       "75%        0.000000      0.000000      0.000000      0.000000      0.000000   \n",
       "max        1.000000      1.000000      1.000000      1.000000      1.000000   \n",
       "\n",
       "          Complain  Z_CostContact  Z_Revenue     Response  \n",
       "count  2240.000000         2240.0     2240.0  2240.000000  \n",
       "mean      0.009375            3.0       11.0     0.149107  \n",
       "std       0.096391            0.0        0.0     0.356274  \n",
       "min       0.000000            3.0       11.0     0.000000  \n",
       "25%       0.000000            3.0       11.0     0.000000  \n",
       "50%       0.000000            3.0       11.0     0.000000  \n",
       "75%       0.000000            3.0       11.0     0.000000  \n",
       "max       1.000000            3.0       11.0     1.000000  "
      ]
     },
     "execution_count": 8,
     "metadata": {},
     "output_type": "execute_result"
    }
   ],
   "source": [
    "# Checking general statistics part 3:\n",
    "cust_df.iloc[:,20:].describe()"
   ]
  },
  {
   "cell_type": "markdown",
   "metadata": {},
   "source": [
    "We can see that the columns `Z_CostContact` and `Z_Revenue` represent constant values, not bringing useful information for this task. Also, they are not related in the data dictionary.\n",
    "\n",
    "Because of that, both the features will be deleted:"
   ]
  },
  {
   "cell_type": "code",
   "execution_count": 9,
   "metadata": {},
   "outputs": [],
   "source": [
    "# Deleting useless columns:\n",
    "cust_df.drop(columns = ['Z_CostContact', 'Z_Revenue'], inplace = True)"
   ]
  },
  {
   "cell_type": "code",
   "execution_count": 10,
   "metadata": {
    "scrolled": true
   },
   "outputs": [
    {
     "name": "stdout",
     "output_type": "stream",
     "text": [
      "Among the 2240 customers exposed to the marketing campaign, only 334 had a positive response.\n",
      "The positive response represents 14.91% of the customers.\n",
      "\n"
     ]
    }
   ],
   "source": [
    "# Checking Response balance:\n",
    "print('Among the {} customers exposed to the marketing campaign, only {} had a positive response.'.format(cust_df.shape[0], \n",
    "                                                                                                          cust_df.Response.value_counts()[1]))\n",
    "print('The positive response represents {:.2f}% of the customers.'.format((cust_df.Response.value_counts()[1] / cust_df.shape[0]) * 100))\n",
    "print()"
   ]
  },
  {
   "cell_type": "markdown",
   "metadata": {},
   "source": [
    "### 2.2 Feature Engineering<a name=\"feateng\"></a>\n",
    "\n",
    "#### 2.2.1 Age<a name=\"age\"></a>\n",
    "\n",
    "The client's year of birth will be used to compute the client's age.\n",
    "\n",
    "Given that the variables indicating the amount spent on different products correspond to a period of two years, we are going to consider that the ultimate date in the dataset corresponds to the minimum date related to the client's enrollment date plus 2 years."
   ]
  },
  {
   "cell_type": "code",
   "execution_count": 11,
   "metadata": {},
   "outputs": [
    {
     "data": {
      "text/plain": [
       "Timestamp('2012-07-30 00:00:00')"
      ]
     },
     "execution_count": 11,
     "metadata": {},
     "output_type": "execute_result"
    }
   ],
   "source": [
    "# Minimum enrollment date:\n",
    "min_enroll = min(cust_df.Dt_Customer)\n",
    "min_enroll"
   ]
  },
  {
   "cell_type": "code",
   "execution_count": 12,
   "metadata": {},
   "outputs": [
    {
     "data": {
      "text/plain": [
       "Timestamp('2014-07-30 00:00:00')"
      ]
     },
     "execution_count": 12,
     "metadata": {},
     "output_type": "execute_result"
    }
   ],
   "source": [
    "# Computing assumed ultimate date in the dataset: \n",
    "ultimate_date = min_enroll + timedelta(days = 730)\n",
    "ultimate_date"
   ]
  },
  {
   "cell_type": "code",
   "execution_count": 13,
   "metadata": {},
   "outputs": [
    {
     "data": {
      "text/html": [
       "<div>\n",
       "<style scoped>\n",
       "    .dataframe tbody tr th:only-of-type {\n",
       "        vertical-align: middle;\n",
       "    }\n",
       "\n",
       "    .dataframe tbody tr th {\n",
       "        vertical-align: top;\n",
       "    }\n",
       "\n",
       "    .dataframe thead th {\n",
       "        text-align: right;\n",
       "    }\n",
       "</style>\n",
       "<table border=\"1\" class=\"dataframe\">\n",
       "  <thead>\n",
       "    <tr style=\"text-align: right;\">\n",
       "      <th></th>\n",
       "      <th>ID</th>\n",
       "      <th>Year_Birth</th>\n",
       "      <th>Education</th>\n",
       "      <th>Marital_Status</th>\n",
       "      <th>Income</th>\n",
       "      <th>Kidhome</th>\n",
       "      <th>Teenhome</th>\n",
       "      <th>Dt_Customer</th>\n",
       "      <th>Recency</th>\n",
       "      <th>MntWines</th>\n",
       "      <th>...</th>\n",
       "      <th>NumStorePurchases</th>\n",
       "      <th>NumWebVisitsMonth</th>\n",
       "      <th>AcceptedCmp3</th>\n",
       "      <th>AcceptedCmp4</th>\n",
       "      <th>AcceptedCmp5</th>\n",
       "      <th>AcceptedCmp1</th>\n",
       "      <th>AcceptedCmp2</th>\n",
       "      <th>Complain</th>\n",
       "      <th>Response</th>\n",
       "      <th>Age</th>\n",
       "    </tr>\n",
       "  </thead>\n",
       "  <tbody>\n",
       "    <tr>\n",
       "      <th>0</th>\n",
       "      <td>5524</td>\n",
       "      <td>1957</td>\n",
       "      <td>Graduation</td>\n",
       "      <td>Single</td>\n",
       "      <td>58138.0</td>\n",
       "      <td>0</td>\n",
       "      <td>0</td>\n",
       "      <td>2012-09-04</td>\n",
       "      <td>58</td>\n",
       "      <td>635</td>\n",
       "      <td>...</td>\n",
       "      <td>4</td>\n",
       "      <td>7</td>\n",
       "      <td>0</td>\n",
       "      <td>0</td>\n",
       "      <td>0</td>\n",
       "      <td>0</td>\n",
       "      <td>0</td>\n",
       "      <td>0</td>\n",
       "      <td>1</td>\n",
       "      <td>57</td>\n",
       "    </tr>\n",
       "    <tr>\n",
       "      <th>1</th>\n",
       "      <td>2174</td>\n",
       "      <td>1954</td>\n",
       "      <td>Graduation</td>\n",
       "      <td>Single</td>\n",
       "      <td>46344.0</td>\n",
       "      <td>1</td>\n",
       "      <td>1</td>\n",
       "      <td>2014-03-08</td>\n",
       "      <td>38</td>\n",
       "      <td>11</td>\n",
       "      <td>...</td>\n",
       "      <td>2</td>\n",
       "      <td>5</td>\n",
       "      <td>0</td>\n",
       "      <td>0</td>\n",
       "      <td>0</td>\n",
       "      <td>0</td>\n",
       "      <td>0</td>\n",
       "      <td>0</td>\n",
       "      <td>0</td>\n",
       "      <td>60</td>\n",
       "    </tr>\n",
       "    <tr>\n",
       "      <th>2</th>\n",
       "      <td>4141</td>\n",
       "      <td>1965</td>\n",
       "      <td>Graduation</td>\n",
       "      <td>Together</td>\n",
       "      <td>71613.0</td>\n",
       "      <td>0</td>\n",
       "      <td>0</td>\n",
       "      <td>2013-08-21</td>\n",
       "      <td>26</td>\n",
       "      <td>426</td>\n",
       "      <td>...</td>\n",
       "      <td>10</td>\n",
       "      <td>4</td>\n",
       "      <td>0</td>\n",
       "      <td>0</td>\n",
       "      <td>0</td>\n",
       "      <td>0</td>\n",
       "      <td>0</td>\n",
       "      <td>0</td>\n",
       "      <td>0</td>\n",
       "      <td>49</td>\n",
       "    </tr>\n",
       "    <tr>\n",
       "      <th>3</th>\n",
       "      <td>6182</td>\n",
       "      <td>1984</td>\n",
       "      <td>Graduation</td>\n",
       "      <td>Together</td>\n",
       "      <td>26646.0</td>\n",
       "      <td>1</td>\n",
       "      <td>0</td>\n",
       "      <td>2014-02-10</td>\n",
       "      <td>26</td>\n",
       "      <td>11</td>\n",
       "      <td>...</td>\n",
       "      <td>4</td>\n",
       "      <td>6</td>\n",
       "      <td>0</td>\n",
       "      <td>0</td>\n",
       "      <td>0</td>\n",
       "      <td>0</td>\n",
       "      <td>0</td>\n",
       "      <td>0</td>\n",
       "      <td>0</td>\n",
       "      <td>30</td>\n",
       "    </tr>\n",
       "    <tr>\n",
       "      <th>4</th>\n",
       "      <td>5324</td>\n",
       "      <td>1981</td>\n",
       "      <td>PhD</td>\n",
       "      <td>Married</td>\n",
       "      <td>58293.0</td>\n",
       "      <td>1</td>\n",
       "      <td>0</td>\n",
       "      <td>2014-01-19</td>\n",
       "      <td>94</td>\n",
       "      <td>173</td>\n",
       "      <td>...</td>\n",
       "      <td>6</td>\n",
       "      <td>5</td>\n",
       "      <td>0</td>\n",
       "      <td>0</td>\n",
       "      <td>0</td>\n",
       "      <td>0</td>\n",
       "      <td>0</td>\n",
       "      <td>0</td>\n",
       "      <td>0</td>\n",
       "      <td>33</td>\n",
       "    </tr>\n",
       "  </tbody>\n",
       "</table>\n",
       "<p>5 rows × 28 columns</p>\n",
       "</div>"
      ],
      "text/plain": [
       "     ID  Year_Birth   Education Marital_Status   Income  Kidhome  Teenhome  \\\n",
       "0  5524        1957  Graduation         Single  58138.0        0         0   \n",
       "1  2174        1954  Graduation         Single  46344.0        1         1   \n",
       "2  4141        1965  Graduation       Together  71613.0        0         0   \n",
       "3  6182        1984  Graduation       Together  26646.0        1         0   \n",
       "4  5324        1981         PhD        Married  58293.0        1         0   \n",
       "\n",
       "  Dt_Customer  Recency  MntWines  ...  NumStorePurchases  NumWebVisitsMonth  \\\n",
       "0  2012-09-04       58       635  ...                  4                  7   \n",
       "1  2014-03-08       38        11  ...                  2                  5   \n",
       "2  2013-08-21       26       426  ...                 10                  4   \n",
       "3  2014-02-10       26        11  ...                  4                  6   \n",
       "4  2014-01-19       94       173  ...                  6                  5   \n",
       "\n",
       "   AcceptedCmp3  AcceptedCmp4  AcceptedCmp5  AcceptedCmp1  AcceptedCmp2  \\\n",
       "0             0             0             0             0             0   \n",
       "1             0             0             0             0             0   \n",
       "2             0             0             0             0             0   \n",
       "3             0             0             0             0             0   \n",
       "4             0             0             0             0             0   \n",
       "\n",
       "   Complain  Response  Age  \n",
       "0         0         1   57  \n",
       "1         0         0   60  \n",
       "2         0         0   49  \n",
       "3         0         0   30  \n",
       "4         0         0   33  \n",
       "\n",
       "[5 rows x 28 columns]"
      ]
     },
     "execution_count": 13,
     "metadata": {},
     "output_type": "execute_result"
    }
   ],
   "source": [
    "# Computing customer's age:\n",
    "cust_df['Age'] = [ultimate_date.year - pd.Timestamp(str(cust_df.Year_Birth.iloc[i])).year for i in range(cust_df.shape[0])]\n",
    "\n",
    "cust_df.head()"
   ]
  },
  {
   "cell_type": "markdown",
   "metadata": {},
   "source": [
    "#### 2.2.2 Months Enrolled<a name=\"monthsenroll\"></a>\n",
    "\n",
    "Since these observations represent values related to a period of two years and customers enrolled in different dates during this period, the first step will be to bring these values into a common ground, so they can be comparable.\n",
    "\n",
    "To do that, values representing the total amount spent or the total number of purchases will be transformed into rates, given one common time unit. \n",
    "\n",
    "As an example, instead of saying that one client had a total amount spent on fish products in the last 2 years, we are going to say that she/he spent a computed rate per month-enrolled on fish products."
   ]
  },
  {
   "cell_type": "code",
   "execution_count": 14,
   "metadata": {},
   "outputs": [],
   "source": [
    "# Computing the number of months the client is enrolled with the company:\n",
    "cust_df['MonthsEnrolled'] = [((ultimate_date - cust_df.Dt_Customer.iloc[i]).days) / 30 for i in range(cust_df.shape[0])]"
   ]
  },
  {
   "cell_type": "markdown",
   "metadata": {},
   "source": [
    "With the number of months enrolled, we will compute average amount spent per month and average number of purchases per month:"
   ]
  },
  {
   "cell_type": "code",
   "execution_count": 15,
   "metadata": {},
   "outputs": [],
   "source": [
    "# Average spending on fish products per month:\n",
    "cust_df['avg_FishProds_per_month'] = [cust_df.MntFishProducts.iloc[i] / cust_df.MonthsEnrolled.iloc[i] \\\n",
    "                                      for i in range(cust_df.shape[0])]\n",
    "\n",
    "# Average spending on meat products per month:\n",
    "cust_df['avg_MeatProds_per_month'] = [cust_df.MntMeatProducts.iloc[i] / cust_df.MonthsEnrolled.iloc[i] \\\n",
    "                                      for i in range(cust_df.shape[0])]\n",
    "\n",
    "# Average spending on fruits per month:\n",
    "cust_df['avg_Fruits_per_month'] = [cust_df.MntFruits.iloc[i] / cust_df.MonthsEnrolled.iloc[i] \\\n",
    "                                   for i in range(cust_df.shape[0])]\n",
    "\n",
    "# Average spending on sweet products per month:\n",
    "cust_df['avg_SweetProds_per_month'] = [cust_df.MntSweetProducts.iloc[i] / cust_df.MonthsEnrolled.iloc[i] \\\n",
    "                                       for i in range(cust_df.shape[0])]\n",
    "\n",
    "# Average spending on wines per month:\n",
    "cust_df['avg_Wines_per_month'] = [cust_df.MntWines.iloc[i] / cust_df.MonthsEnrolled.iloc[i] \\\n",
    "                                  for i in range(cust_df.shape[0])]\n",
    "\n",
    "# Average spending on gold products per month:\n",
    "cust_df['avg_GoldProds_per_month'] = [cust_df.MntGoldProds.iloc[i] / cust_df.MonthsEnrolled.iloc[i] \\\n",
    "                                      for i in range(cust_df.shape[0])]\n",
    "\n",
    "# Average number of catalog purchases per month:\n",
    "cust_df['avg_CatalogPrch_per_month'] = [cust_df.NumCatalogPurchases.iloc[i] / cust_df.MonthsEnrolled.iloc[i] \\\n",
    "                                        for i in range(cust_df.shape[0])]\n",
    "\n",
    "# Average number of deals purchases per month:\n",
    "cust_df['avg_DealsPrch_per_month'] = [cust_df.NumDealsPurchases.iloc[i] / cust_df.MonthsEnrolled.iloc[i] \\\n",
    "                                      for i in range(cust_df.shape[0])]\n",
    "\n",
    "# Average number of store purchases per month:\n",
    "cust_df['avg_StorePrch_per_month'] = [cust_df.NumStorePurchases.iloc[i] / cust_df.MonthsEnrolled.iloc[i] \\\n",
    "                                      for i in range(cust_df.shape[0])]\n",
    "\n",
    "# Average number of web purchases per month:\n",
    "cust_df['avg_WebPrch_per_month'] = [cust_df.NumWebPurchases.iloc[i] / cust_df.MonthsEnrolled.iloc[i] \\\n",
    "                                    for i in range(cust_df.shape[0])]"
   ]
  },
  {
   "cell_type": "markdown",
   "metadata": {},
   "source": [
    "#### 2.2.3 Total Amount Spent<a name=\"totalamount\"></a>"
   ]
  },
  {
   "cell_type": "code",
   "execution_count": 16,
   "metadata": {},
   "outputs": [],
   "source": [
    "# Creating total amount spent column:\n",
    "cust_df['Total_Amount_Spent'] = [cust_df.MntFishProducts[i] + cust_df.MntMeatProducts[i] + cust_df.MntFruits[i] + \\\n",
    "                                 cust_df.MntSweetProducts[i] + cust_df.MntWines[i] + cust_df.MntGoldProds[i] \\\n",
    "                                 for i in range(cust_df.shape[0])]\n",
    "\n",
    "# Average amount spent per month:\n",
    "cust_df['Avg_Amount_Spent_per_month'] = [cust_df.Total_Amount_Spent[i] / cust_df.MonthsEnrolled[i] \\\n",
    "                                         for i in range(cust_df.shape[0])]"
   ]
  },
  {
   "cell_type": "code",
   "execution_count": 17,
   "metadata": {},
   "outputs": [
    {
     "data": {
      "text/html": [
       "<div>\n",
       "<style scoped>\n",
       "    .dataframe tbody tr th:only-of-type {\n",
       "        vertical-align: middle;\n",
       "    }\n",
       "\n",
       "    .dataframe tbody tr th {\n",
       "        vertical-align: top;\n",
       "    }\n",
       "\n",
       "    .dataframe thead th {\n",
       "        text-align: right;\n",
       "    }\n",
       "</style>\n",
       "<table border=\"1\" class=\"dataframe\">\n",
       "  <thead>\n",
       "    <tr style=\"text-align: right;\">\n",
       "      <th></th>\n",
       "      <th>ID</th>\n",
       "      <th>Year_Birth</th>\n",
       "      <th>Education</th>\n",
       "      <th>Marital_Status</th>\n",
       "      <th>Income</th>\n",
       "      <th>Kidhome</th>\n",
       "      <th>Teenhome</th>\n",
       "      <th>Dt_Customer</th>\n",
       "      <th>Recency</th>\n",
       "      <th>MntWines</th>\n",
       "      <th>...</th>\n",
       "      <th>avg_Fruits_per_month</th>\n",
       "      <th>avg_SweetProds_per_month</th>\n",
       "      <th>avg_Wines_per_month</th>\n",
       "      <th>avg_GoldProds_per_month</th>\n",
       "      <th>avg_CatalogPrch_per_month</th>\n",
       "      <th>avg_DealsPrch_per_month</th>\n",
       "      <th>avg_StorePrch_per_month</th>\n",
       "      <th>avg_WebPrch_per_month</th>\n",
       "      <th>Total_Amount_Spent</th>\n",
       "      <th>Avg_Amount_Spent_per_month</th>\n",
       "    </tr>\n",
       "  </thead>\n",
       "  <tbody>\n",
       "    <tr>\n",
       "      <th>0</th>\n",
       "      <td>5524</td>\n",
       "      <td>1957</td>\n",
       "      <td>Graduation</td>\n",
       "      <td>Single</td>\n",
       "      <td>58138.0</td>\n",
       "      <td>0</td>\n",
       "      <td>0</td>\n",
       "      <td>2012-09-04</td>\n",
       "      <td>58</td>\n",
       "      <td>635</td>\n",
       "      <td>...</td>\n",
       "      <td>3.804035</td>\n",
       "      <td>3.804035</td>\n",
       "      <td>27.449568</td>\n",
       "      <td>3.804035</td>\n",
       "      <td>0.432277</td>\n",
       "      <td>0.129683</td>\n",
       "      <td>0.172911</td>\n",
       "      <td>0.345821</td>\n",
       "      <td>1617</td>\n",
       "      <td>69.899135</td>\n",
       "    </tr>\n",
       "    <tr>\n",
       "      <th>1</th>\n",
       "      <td>2174</td>\n",
       "      <td>1954</td>\n",
       "      <td>Graduation</td>\n",
       "      <td>Single</td>\n",
       "      <td>46344.0</td>\n",
       "      <td>1</td>\n",
       "      <td>1</td>\n",
       "      <td>2014-03-08</td>\n",
       "      <td>38</td>\n",
       "      <td>11</td>\n",
       "      <td>...</td>\n",
       "      <td>0.208333</td>\n",
       "      <td>0.208333</td>\n",
       "      <td>2.291667</td>\n",
       "      <td>1.250000</td>\n",
       "      <td>0.208333</td>\n",
       "      <td>0.416667</td>\n",
       "      <td>0.416667</td>\n",
       "      <td>0.208333</td>\n",
       "      <td>27</td>\n",
       "      <td>5.625000</td>\n",
       "    </tr>\n",
       "    <tr>\n",
       "      <th>2</th>\n",
       "      <td>4141</td>\n",
       "      <td>1965</td>\n",
       "      <td>Graduation</td>\n",
       "      <td>Together</td>\n",
       "      <td>71613.0</td>\n",
       "      <td>0</td>\n",
       "      <td>0</td>\n",
       "      <td>2013-08-21</td>\n",
       "      <td>26</td>\n",
       "      <td>426</td>\n",
       "      <td>...</td>\n",
       "      <td>4.285714</td>\n",
       "      <td>1.836735</td>\n",
       "      <td>37.259475</td>\n",
       "      <td>3.673469</td>\n",
       "      <td>0.174927</td>\n",
       "      <td>0.087464</td>\n",
       "      <td>0.874636</td>\n",
       "      <td>0.699708</td>\n",
       "      <td>776</td>\n",
       "      <td>67.871720</td>\n",
       "    </tr>\n",
       "    <tr>\n",
       "      <th>3</th>\n",
       "      <td>6182</td>\n",
       "      <td>1984</td>\n",
       "      <td>Graduation</td>\n",
       "      <td>Together</td>\n",
       "      <td>26646.0</td>\n",
       "      <td>1</td>\n",
       "      <td>0</td>\n",
       "      <td>2014-02-10</td>\n",
       "      <td>26</td>\n",
       "      <td>11</td>\n",
       "      <td>...</td>\n",
       "      <td>0.705882</td>\n",
       "      <td>0.529412</td>\n",
       "      <td>1.941176</td>\n",
       "      <td>0.882353</td>\n",
       "      <td>0.000000</td>\n",
       "      <td>0.352941</td>\n",
       "      <td>0.705882</td>\n",
       "      <td>0.352941</td>\n",
       "      <td>53</td>\n",
       "      <td>9.352941</td>\n",
       "    </tr>\n",
       "    <tr>\n",
       "      <th>4</th>\n",
       "      <td>5324</td>\n",
       "      <td>1981</td>\n",
       "      <td>PhD</td>\n",
       "      <td>Married</td>\n",
       "      <td>58293.0</td>\n",
       "      <td>1</td>\n",
       "      <td>0</td>\n",
       "      <td>2014-01-19</td>\n",
       "      <td>94</td>\n",
       "      <td>173</td>\n",
       "      <td>...</td>\n",
       "      <td>6.718750</td>\n",
       "      <td>4.218750</td>\n",
       "      <td>27.031250</td>\n",
       "      <td>2.343750</td>\n",
       "      <td>0.468750</td>\n",
       "      <td>0.781250</td>\n",
       "      <td>0.937500</td>\n",
       "      <td>0.781250</td>\n",
       "      <td>422</td>\n",
       "      <td>65.937500</td>\n",
       "    </tr>\n",
       "  </tbody>\n",
       "</table>\n",
       "<p>5 rows × 41 columns</p>\n",
       "</div>"
      ],
      "text/plain": [
       "     ID  Year_Birth   Education Marital_Status   Income  Kidhome  Teenhome  \\\n",
       "0  5524        1957  Graduation         Single  58138.0        0         0   \n",
       "1  2174        1954  Graduation         Single  46344.0        1         1   \n",
       "2  4141        1965  Graduation       Together  71613.0        0         0   \n",
       "3  6182        1984  Graduation       Together  26646.0        1         0   \n",
       "4  5324        1981         PhD        Married  58293.0        1         0   \n",
       "\n",
       "  Dt_Customer  Recency  MntWines  ...  avg_Fruits_per_month  \\\n",
       "0  2012-09-04       58       635  ...              3.804035   \n",
       "1  2014-03-08       38        11  ...              0.208333   \n",
       "2  2013-08-21       26       426  ...              4.285714   \n",
       "3  2014-02-10       26        11  ...              0.705882   \n",
       "4  2014-01-19       94       173  ...              6.718750   \n",
       "\n",
       "   avg_SweetProds_per_month  avg_Wines_per_month  avg_GoldProds_per_month  \\\n",
       "0                  3.804035            27.449568                 3.804035   \n",
       "1                  0.208333             2.291667                 1.250000   \n",
       "2                  1.836735            37.259475                 3.673469   \n",
       "3                  0.529412             1.941176                 0.882353   \n",
       "4                  4.218750            27.031250                 2.343750   \n",
       "\n",
       "   avg_CatalogPrch_per_month  avg_DealsPrch_per_month  \\\n",
       "0                   0.432277                 0.129683   \n",
       "1                   0.208333                 0.416667   \n",
       "2                   0.174927                 0.087464   \n",
       "3                   0.000000                 0.352941   \n",
       "4                   0.468750                 0.781250   \n",
       "\n",
       "   avg_StorePrch_per_month  avg_WebPrch_per_month  Total_Amount_Spent  \\\n",
       "0                 0.172911               0.345821                1617   \n",
       "1                 0.416667               0.208333                  27   \n",
       "2                 0.874636               0.699708                 776   \n",
       "3                 0.705882               0.352941                  53   \n",
       "4                 0.937500               0.781250                 422   \n",
       "\n",
       "   Avg_Amount_Spent_per_month  \n",
       "0                   69.899135  \n",
       "1                    5.625000  \n",
       "2                   67.871720  \n",
       "3                    9.352941  \n",
       "4                   65.937500  \n",
       "\n",
       "[5 rows x 41 columns]"
      ]
     },
     "execution_count": 17,
     "metadata": {},
     "output_type": "execute_result"
    }
   ],
   "source": [
    "# Checking dataframe with new features:\n",
    "cust_df.head()"
   ]
  },
  {
   "cell_type": "markdown",
   "metadata": {},
   "source": [
    "### 2.3 Treating NaN Values<a name=\"treatnan\"></a>\n",
    "\n",
    "In this case, since there's only about 1% of the *nan* values in the `Income` feature, these values will be imputed with the **median** income, considering:\n",
    "* the education level;\n",
    "* and the marital status."
   ]
  },
  {
   "cell_type": "code",
   "execution_count": 18,
   "metadata": {},
   "outputs": [],
   "source": [
    "# Computing the median Income for each combinantion of Education and Marital Status:\n",
    "median_incomes = cust_df.groupby(['Education', 'Marital_Status']).Income.median()\n",
    "\n",
    "# Creating a list with Income imputation values:\n",
    "income_imputations = list()\n",
    "\n",
    "# Selecting observations with nan Income values:\n",
    "nan_income_obs = cust_df[cust_df.Income.isnull()]\n",
    "\n",
    "# Looping through nan Income observations:\n",
    "for i in range(nan_income_obs.shape[0]):\n",
    "    income = median_incomes[nan_income_obs.Education.iloc[i]][nan_income_obs.Marital_Status.iloc[i]]\n",
    "    income_imputations.append(income)"
   ]
  },
  {
   "cell_type": "code",
   "execution_count": 19,
   "metadata": {},
   "outputs": [],
   "source": [
    "# Applying Income imputations:\n",
    "nan_index = list(nan_income_obs.index.values)\n",
    "\n",
    "for i in range(len(nan_index)):\n",
    "    cust_df.at[nan_index[i], 'Income'] = income_imputations[i]"
   ]
  },
  {
   "cell_type": "code",
   "execution_count": 20,
   "metadata": {},
   "outputs": [
    {
     "data": {
      "text/plain": [
       "ID                            0\n",
       "Year_Birth                    0\n",
       "Education                     0\n",
       "Marital_Status                0\n",
       "Income                        0\n",
       "Kidhome                       0\n",
       "Teenhome                      0\n",
       "Dt_Customer                   0\n",
       "Recency                       0\n",
       "MntWines                      0\n",
       "MntFruits                     0\n",
       "MntMeatProducts               0\n",
       "MntFishProducts               0\n",
       "MntSweetProducts              0\n",
       "MntGoldProds                  0\n",
       "NumDealsPurchases             0\n",
       "NumWebPurchases               0\n",
       "NumCatalogPurchases           0\n",
       "NumStorePurchases             0\n",
       "NumWebVisitsMonth             0\n",
       "AcceptedCmp3                  0\n",
       "AcceptedCmp4                  0\n",
       "AcceptedCmp5                  0\n",
       "AcceptedCmp1                  0\n",
       "AcceptedCmp2                  0\n",
       "Complain                      0\n",
       "Response                      0\n",
       "Age                           0\n",
       "MonthsEnrolled                0\n",
       "avg_FishProds_per_month       0\n",
       "avg_MeatProds_per_month       0\n",
       "avg_Fruits_per_month          0\n",
       "avg_SweetProds_per_month      0\n",
       "avg_Wines_per_month           0\n",
       "avg_GoldProds_per_month       0\n",
       "avg_CatalogPrch_per_month     0\n",
       "avg_DealsPrch_per_month       0\n",
       "avg_StorePrch_per_month       0\n",
       "avg_WebPrch_per_month         0\n",
       "Total_Amount_Spent            0\n",
       "Avg_Amount_Spent_per_month    0\n",
       "dtype: int64"
      ]
     },
     "execution_count": 20,
     "metadata": {},
     "output_type": "execute_result"
    }
   ],
   "source": [
    "# Checking nan values:\n",
    "cust_df.isnull().sum()"
   ]
  },
  {
   "cell_type": "markdown",
   "metadata": {},
   "source": [
    "## 3. Exploratory Data Analysis<a name=\"eda\"></a>"
   ]
  },
  {
   "cell_type": "markdown",
   "metadata": {},
   "source": [
    "This EDA task will be guided by a few questions:\n",
    "* On which product do customers spend more money?\n",
    "* Which channel is responsible for most of the sellings?\n",
    "* Are there significant differences between customers that respond or not to marketing campaigns?\n",
    "* Are there any relationships among the customers that responded to different marketing campaigns?"
   ]
  },
  {
   "cell_type": "markdown",
   "metadata": {},
   "source": [
    "### 3.1 Products<a name=\"prods\"></a>"
   ]
  },
  {
   "cell_type": "code",
   "execution_count": 21,
   "metadata": {},
   "outputs": [],
   "source": [
    "# Creating Products dataframe:\n",
    "prods = ['MntWines', 'MntFruits', 'MntMeatProducts', 'MntFishProducts', 'MntSweetProducts', 'MntGoldProds']\n",
    "prods_df = pd.melt(cust_df, id_vars = ['Response'], value_vars = prods, var_name = 'Product', value_name='Amount')"
   ]
  },
  {
   "cell_type": "code",
   "execution_count": 22,
   "metadata": {
    "scrolled": true
   },
   "outputs": [
    {
     "data": {
      "image/png": "[encoded data removed]",
      "text/plain": [
       "<Figure size 792x360 with 1 Axes>"
      ]
     },
     "metadata": {
      "needs_background": "light"
     },
     "output_type": "display_data"
    }
   ],
   "source": [
    "# Defining figure:\n",
    "fig, ax = plt.subplots(nrows = 1, ncols = 1, figsize = (11, 5))\n",
    "\n",
    "# Defining barplot:\n",
    "sns.barplot(x = 'Product', \n",
    "            y = 'Amount', \n",
    "            estimator = sum, \n",
    "            data = prods_df, \n",
    "            ci = None, \n",
    "            color = 'darkgray', \n",
    "            ax = ax).set(\n",
    "    title = 'Total Amount Spent on Products - 2 Years Period')\n",
    "\n",
    "# Customizing borders:\n",
    "sns.despine(left=True, top = True)\n",
    "\n",
    "# Saving figure:\n",
    "fig.savefig('plots\\plot1.png')\n",
    "\n",
    "# Showing the figure:\n",
    "fig.show()"
   ]
  },
  {
   "cell_type": "markdown",
   "metadata": {},
   "source": [
    "We can see that the overall largest amount of money is spent on **wines** and **meat products**.\n",
    "\n",
    "**Fruits** represent the product on which customers spend the lower amount of money in the period of two years."
   ]
  },
  {
   "cell_type": "code",
   "execution_count": 23,
   "metadata": {},
   "outputs": [],
   "source": [
    "# Creating Avg Products dataframe:\n",
    "avg_prods = ['avg_Wines_per_month', 'avg_Fruits_per_month', 'avg_MeatProds_per_month', 'avg_FishProds_per_month', \n",
    "             'avg_SweetProds_per_month', 'avg_GoldProds_per_month']\n",
    "avg_prods_df = pd.melt(cust_df, id_vars = ['Response'], value_vars = avg_prods, var_name = 'Product', \n",
    "                       value_name = 'Avg_Monthly_Amount')"
   ]
  },
  {
   "cell_type": "code",
   "execution_count": 24,
   "metadata": {},
   "outputs": [
    {
     "data": {
      "image/png": "[encoded data removed]",
      "text/plain": [
       "<Figure size 1188x360 with 1 Axes>"
      ]
     },
     "metadata": {
      "needs_background": "light"
     },
     "output_type": "display_data"
    }
   ],
   "source": [
    "# Definig palette according to the Response feature:\n",
    "palette = {0: 'silver', 1: 'red'}\n",
    "\n",
    "# Defining figure:\n",
    "fig, ax = plt.subplots(nrows = 1, ncols = 1, figsize = (16.5, 5))\n",
    "\n",
    "# Defining barplot:\n",
    "sns.barplot(x = 'Product', \n",
    "            y = 'Avg_Monthly_Amount', \n",
    "            hue = 'Response', \n",
    "            data = avg_prods_df, \n",
    "            ci = None, \n",
    "            palette = palette, \n",
    "            ax = ax).set(\n",
    "    title = 'Average Monthly Amount Spent on Products According to Campaign Response')\n",
    "\n",
    "# Customizing borders:\n",
    "sns.despine(left=True, top = True)\n",
    "\n",
    "# Saving figure:\n",
    "fig.savefig('plots\\plot2.png')\n",
    "\n",
    "# Showing the figure:\n",
    "fig.show()"
   ]
  },
  {
   "cell_type": "markdown",
   "metadata": {},
   "source": [
    "There's a tendency that customers who are responsive to the campaign spend higher monthly amounts on all the products offered by the company, but this tendency is more clear when observing average monthly amounts spent on **wines** and **meat products**.\n",
    "\n",
    "It could indicate that these clients might be more **connected to the brand**, and might genuinely **like the company's products**, which results in more frequent or more robust purchases. \n",
    "\n",
    "They might be associated with a more **traditional profile**, considering their preferences on wines and meat."
   ]
  },
  {
   "cell_type": "markdown",
   "metadata": {},
   "source": [
    "### 3.2 Channels<a name=\"channs\"></a>"
   ]
  },
  {
   "cell_type": "code",
   "execution_count": 25,
   "metadata": {},
   "outputs": [],
   "source": [
    "# Creating Channels dataframe:\n",
    "channels = ['NumDealsPurchases', 'NumWebPurchases', 'NumCatalogPurchases', 'NumStorePurchases']\n",
    "channels_df = pd.melt(cust_df, id_vars = ['Response'], value_vars = channels, var_name = 'Channel', value_name='Num_Purchases')"
   ]
  },
  {
   "cell_type": "code",
   "execution_count": 26,
   "metadata": {},
   "outputs": [
    {
     "data": {
      "image/png": "[encoded data removed]",
      "text/plain": [
       "<Figure size 648x360 with 1 Axes>"
      ]
     },
     "metadata": {
      "needs_background": "light"
     },
     "output_type": "display_data"
    }
   ],
   "source": [
    "# Defining figure:\n",
    "fig, ax = plt.subplots(nrows = 1, ncols = 1, figsize = (9, 5))\n",
    "\n",
    "# Defining barplot:\n",
    "sns.barplot(x = 'Channel', \n",
    "            y = 'Num_Purchases', \n",
    "            estimator = sum, \n",
    "            data = channels_df, \n",
    "            ci = None, \n",
    "            color = 'darkgray', \n",
    "            ax = ax).set(\n",
    "    title = 'Total Number of Purchases by Channel - 2 Years Period')\n",
    "\n",
    "# Customizing borders:\n",
    "sns.despine(left=True, top = True)\n",
    "\n",
    "# Saving figure:\n",
    "fig.savefig('plots\\plot3.png')\n",
    "\n",
    "# Showing the figure:\n",
    "fig.show()"
   ]
  },
  {
   "cell_type": "markdown",
   "metadata": {},
   "source": [
    "Most of the purchases are made **directly in stores**, being the website the second most common channel used for purchases in the period represented in the dataset."
   ]
  },
  {
   "cell_type": "code",
   "execution_count": 27,
   "metadata": {},
   "outputs": [],
   "source": [
    "# Creating Channels dataframe:\n",
    "avg_channels = ['avg_DealsPrch_per_month', 'avg_WebPrch_per_month', 'avg_CatalogPrch_per_month', 'avg_StorePrch_per_month']\n",
    "avg_channels_df = pd.melt(cust_df, id_vars = ['Response'], value_vars = avg_channels, var_name = 'Channel', \n",
    "                          value_name='Avg_Monthly_Purchases')"
   ]
  },
  {
   "cell_type": "code",
   "execution_count": 28,
   "metadata": {},
   "outputs": [
    {
     "data": {
      "image/png": "[encoded data removed]",
      "text/plain": [
       "<Figure size 828x360 with 1 Axes>"
      ]
     },
     "metadata": {
      "needs_background": "light"
     },
     "output_type": "display_data"
    }
   ],
   "source": [
    "# Defining figure:\n",
    "fig, ax = plt.subplots(nrows = 1, ncols = 1, figsize = (11.5, 5))\n",
    "\n",
    "# Defining barplot:\n",
    "sns.barplot(x = 'Channel', \n",
    "            y = 'Avg_Monthly_Purchases', \n",
    "            hue = 'Response', \n",
    "            data = avg_channels_df, \n",
    "            ci = None, \n",
    "            palette = palette, \n",
    "            ax = ax).set(\n",
    "    title = 'Average Monthly Number of Purchases by Channel According to Campaign Response')\n",
    "\n",
    "# Customizing borders:\n",
    "sns.despine(left=True, top = True)\n",
    "\n",
    "# Saving figure:\n",
    "fig.savefig('plots\\plot4.png')\n",
    "\n",
    "# Showing the figure:\n",
    "fig.show()"
   ]
  },
  {
   "cell_type": "markdown",
   "metadata": {},
   "source": [
    "It is possible to say that clients who responded to the last campaign have a higher rate of **monthly purchases using catalogs**.\n",
    "\n",
    "Although they don't stand out when it comes to **web purchase**, they are almost **equally represented** when comparing to the customers that didn't respond to the campaign.\n",
    "\n",
    "It's interesting to see that **store and deal purchasers** have a clear **underrepresentation** among customers that responded to the last campaign. \n",
    "\n",
    "In other words, the marketing campaign might be boosting catalog purchases, or maybe these **campaigns** are being **publicized through the company's catalogs**. In the last case, it should be considered **publicizing** the campaigns **through different channels** to achieve more customers."
   ]
  },
  {
   "cell_type": "markdown",
   "metadata": {},
   "source": [
    "### 3.3 Age<a name=\"age_analysis\"></a>\n",
    "\n",
    "The ages will be analyzed through two different perspectives:\n",
    "* the average age;\n",
    "* comparing the occurrence of different age groups."
   ]
  },
  {
   "cell_type": "code",
   "execution_count": 29,
   "metadata": {},
   "outputs": [
    {
     "name": "stdout",
     "output_type": "stream",
     "text": [
      "Overall customers:\n",
      "------------------\n",
      "Company's customers are on average 45.2 years old.\n",
      "The median age corresponds to 44.0 years old.\n",
      "\n",
      "Customers who were not responsive to the campaign:\n",
      "--------------------------------------------------\n",
      "Average age: 45.3;\n",
      "Median age: 44.\n",
      "\n",
      "Customers who were responsive to the campaign:\n",
      "----------------------------------------------\n",
      "Average age: 44.6;\n",
      "Median age: 43.\n"
     ]
    }
   ],
   "source": [
    "print('Overall customers:')\n",
    "print('------------------')\n",
    "print(\"Company's customers are on average {:.1f} years old.\".format(cust_df.Age.describe()['mean']))\n",
    "print('The median age corresponds to {} years old.'.format(cust_df.Age.describe()['50%']))\n",
    "\n",
    "print('\\nCustomers who were not responsive to the campaign:')\n",
    "print('--------------------------------------------------')\n",
    "print('Average age: {:.1f};'.format(cust_df.groupby(['Response']).Age.mean()[0]))\n",
    "print('Median age: {}.'.format(cust_df.groupby(['Response']).Age.median()[0]))\n",
    "\n",
    "print('\\nCustomers who were responsive to the campaign:')\n",
    "print('----------------------------------------------')\n",
    "print('Average age: {:.1f};'.format(cust_df.groupby(['Response']).Age.mean()[1]))\n",
    "print('Median age: {}.'.format(cust_df.groupby(['Response']).Age.median()[1]))"
   ]
  },
  {
   "cell_type": "code",
   "execution_count": 30,
   "metadata": {},
   "outputs": [
    {
     "data": {
      "text/plain": [
       "count    2240.000000\n",
       "mean       45.194196\n",
       "std        11.984069\n",
       "min        18.000000\n",
       "25%        37.000000\n",
       "50%        44.000000\n",
       "75%        55.000000\n",
       "max       121.000000\n",
       "Name: Age, dtype: float64"
      ]
     },
     "execution_count": 30,
     "metadata": {},
     "output_type": "execute_result"
    }
   ],
   "source": [
    "# Checking Age quartiles:\n",
    "cust_df.Age.describe()"
   ]
  },
  {
   "cell_type": "markdown",
   "metadata": {},
   "source": [
    "Following the observed age distribution, age groups will be segmented as shown below:\n",
    "* less than 30 years old;\n",
    "* 30 - 39 years old;\n",
    "* 40 - 49 years old;\n",
    "* 50 - 59 years old;\n",
    "* more than or equal to 60 years old."
   ]
  },
  {
   "cell_type": "code",
   "execution_count": 31,
   "metadata": {},
   "outputs": [],
   "source": [
    "# Creating Age Group feature:\n",
    "cust_df['Age_Group'] = ['<30' if cust_df.Age[i] < 30 \\\n",
    "                        else '30-39' if 30 <= cust_df.Age[i] < 40 \\\n",
    "                        else '40-49' if 40 <= cust_df.Age[i] < 50 \\\n",
    "                        else '50-59' if 50 <= cust_df.Age[i] < 60 \\\n",
    "                        else '>=60' \\\n",
    "                        for i in range(cust_df.shape[0])]"
   ]
  },
  {
   "cell_type": "code",
   "execution_count": 32,
   "metadata": {},
   "outputs": [],
   "source": [
    "# Creating Age Group dataframe:\n",
    "age_df = pd.DataFrame(columns = ['Age_Group', 'Count', 'Percentage'])\n",
    "age_df['Age_Group'] = cust_df.groupby('Age_Group').ID.count().index.values\n",
    "age_df['Count'] = cust_df.groupby('Age_Group').ID.count().values\n",
    "age_df['Percentage'] = [(age_df.Count[i] / sum(age_df.Count)) * 100 for i in range(age_df.shape[0])]"
   ]
  },
  {
   "cell_type": "code",
   "execution_count": 33,
   "metadata": {
    "scrolled": true
   },
   "outputs": [
    {
     "data": {
      "image/png": "[encoded data removed]",
      "text/plain": [
       "<Figure size 504x288 with 1 Axes>"
      ]
     },
     "metadata": {
      "needs_background": "light"
     },
     "output_type": "display_data"
    }
   ],
   "source": [
    "# Defining figure:\n",
    "fig, ax = plt.subplots(nrows = 1, ncols = 1, figsize = (7, 4))\n",
    "\n",
    "# Defining barplot:\n",
    "sns.barplot(x = 'Age_Group', \n",
    "            y = 'Percentage', \n",
    "            data = age_df, \n",
    "            order = ['<30', '30-39', '40-49', '50-59', '>=60'], \n",
    "            color = 'darkgray', \n",
    "            ax = ax).set(\n",
    "    title = 'Percentage of Customers by Age Group')\n",
    "\n",
    "# Customizing borders:\n",
    "sns.despine(left=True, top = True)\n",
    "\n",
    "# Saving figure:\n",
    "fig.savefig('plots\\plot5.png')\n",
    "\n",
    "# Showing the figure:\n",
    "fig.show()"
   ]
  },
  {
   "cell_type": "markdown",
   "metadata": {},
   "source": [
    "It's possible to see that **young** clients represent **the lowest portion** of customers. \n",
    "\n",
    "**Over 50%** of the clients are **between 30 and 49 years old**. If we include customers that are between 50 and 59 years old, these clients represent about 75% of the company's customers."
   ]
  },
  {
   "cell_type": "code",
   "execution_count": 34,
   "metadata": {},
   "outputs": [],
   "source": [
    "# Creating Age Group dataframe by Response:\n",
    "# 0\n",
    "age0_df = pd.DataFrame(columns = ['Age_Group', 'Percentage'])\n",
    "age0_df['Age_Group'] = cust_df[cust_df.Response == 0].Age_Group.value_counts(normalize = True).index.values\n",
    "age0_df['Percentage'] = cust_df[cust_df.Response == 0].Age_Group.value_counts(normalize = True).values\n",
    "age0_df['Response'] = 0\n",
    "\n",
    "# 1:\n",
    "age1_df = pd.DataFrame(columns = ['Age_Group', 'Percentage'])\n",
    "age1_df['Age_Group'] = cust_df[cust_df.Response == 1].Age_Group.value_counts(normalize = True).index.values\n",
    "age1_df['Percentage'] = cust_df[cust_df.Response == 1].Age_Group.value_counts(normalize = True).values\n",
    "age1_df['Response'] = 1\n",
    "\n",
    "# Concatenating:\n",
    "age_resp_df = pd.concat([age0_df, age1_df], ignore_index = True)\n",
    "age_resp_df['Percentage'] = age_resp_df['Percentage'] * 100"
   ]
  },
  {
   "cell_type": "code",
   "execution_count": 35,
   "metadata": {},
   "outputs": [
    {
     "data": {
      "image/png": "[encoded data removed]",
      "text/plain": [
       "<Figure size 720x360 with 1 Axes>"
      ]
     },
     "metadata": {
      "needs_background": "light"
     },
     "output_type": "display_data"
    }
   ],
   "source": [
    "# Defining figure:\n",
    "fig, ax = plt.subplots(nrows = 1, ncols = 1, figsize = (10, 5))\n",
    "\n",
    "# Defining barplot:\n",
    "sns.barplot(x = 'Age_Group', \n",
    "            y = 'Percentage', \n",
    "            hue = 'Response',\n",
    "            data = age_resp_df,\n",
    "            order = ['<30', '30-39', '40-49', '50-59', '>=60'],\n",
    "            ci = None, \n",
    "            palette = palette, \n",
    "            ax = ax).set(\n",
    "    title = 'Percentage of Customers per Age Group According to Campaign Response')\n",
    "\n",
    "# Customizing borders:\n",
    "sns.despine(left=True, top = True)\n",
    "\n",
    "# Saving figure:\n",
    "fig.savefig('plots\\plot6.png')\n",
    "\n",
    "# Showing the figure:\n",
    "fig.show()"
   ]
  },
  {
   "cell_type": "markdown",
   "metadata": {},
   "source": [
    "In terms of the marketing campaign, no age group is especially affected by it. \n",
    "\n",
    "Proportionally, **all age groups are equally responsive** to the marketing campaign."
   ]
  },
  {
   "cell_type": "markdown",
   "metadata": {},
   "source": [
    "### 3.4 Education<a name=\"edu\"></a>"
   ]
  },
  {
   "cell_type": "code",
   "execution_count": 36,
   "metadata": {},
   "outputs": [],
   "source": [
    "# Creating Education dataframe:\n",
    "edu_df = pd.DataFrame(columns = ['Education', 'Percentage'])\n",
    "edu_df['Education'] = cust_df.Education.value_counts(normalize = True).index.values\n",
    "edu_df['Percentage'] = cust_df.Education.value_counts(normalize = True).values * 100"
   ]
  },
  {
   "cell_type": "code",
   "execution_count": 37,
   "metadata": {
    "scrolled": false
   },
   "outputs": [
    {
     "data": {
      "image/png": "[encoded data removed]",
      "text/plain": [
       "<Figure size 504x288 with 1 Axes>"
      ]
     },
     "metadata": {
      "needs_background": "light"
     },
     "output_type": "display_data"
    }
   ],
   "source": [
    "# Defining figure:\n",
    "fig, ax = plt.subplots(nrows = 1, ncols = 1, figsize = (7, 4))\n",
    "\n",
    "# Defining barplot:\n",
    "sns.barplot(x = 'Education', \n",
    "            y = 'Percentage', \n",
    "            data = edu_df, \n",
    "            order = ['Basic', '2n Cycle', 'Graduation', 'Master', 'PhD'], \n",
    "            color = 'darkgray', \n",
    "            ax = ax).set(\n",
    "    title = 'Percentage of Customers by Education')\n",
    "\n",
    "# Customizing borders:\n",
    "sns.despine(left=True, top = True)\n",
    "\n",
    "# Saving figure:\n",
    "fig.savefig('plots\\plot7.png')\n",
    "\n",
    "# Showing the figure:\n",
    "fig.show()"
   ]
  },
  {
   "cell_type": "markdown",
   "metadata": {},
   "source": [
    "The customers of the company are **well-educated**. 50% of them have a Graduation degree, and over 20% have a PhD.\n",
    "\n",
    "People with Basic and 2nd Cycle Education represent about 10% of the customers."
   ]
  },
  {
   "cell_type": "code",
   "execution_count": 38,
   "metadata": {},
   "outputs": [],
   "source": [
    "# Creating Education dataframe by Response:\n",
    "# 0\n",
    "edu0_df = pd.DataFrame(columns = ['Education', 'Percentage'])\n",
    "edu0_df['Education'] = cust_df[cust_df.Response == 0].Education.value_counts(normalize = True).index.values\n",
    "edu0_df['Percentage'] = cust_df[cust_df.Response == 0].Education.value_counts(normalize = True).values * 100\n",
    "edu0_df['Response'] = 0\n",
    "\n",
    "# 1:\n",
    "edu1_df = pd.DataFrame(columns = ['Education', 'Percentage'])\n",
    "edu1_df['Education'] = cust_df[cust_df.Response == 1].Education.value_counts(normalize = True).index.values\n",
    "edu1_df['Percentage'] = cust_df[cust_df.Response == 1].Education.value_counts(normalize = True).values * 100\n",
    "edu1_df['Response'] = 1\n",
    "\n",
    "# Concatenating:\n",
    "edu_resp_df = pd.concat([edu0_df, edu1_df], ignore_index = True)"
   ]
  },
  {
   "cell_type": "code",
   "execution_count": 39,
   "metadata": {
    "scrolled": true
   },
   "outputs": [
    {
     "data": {
      "image/png": "[encoded data removed]",
      "text/plain": [
       "<Figure size 720x360 with 1 Axes>"
      ]
     },
     "metadata": {
      "needs_background": "light"
     },
     "output_type": "display_data"
    }
   ],
   "source": [
    "# Defining figure:\n",
    "fig, ax = plt.subplots(nrows = 1, ncols = 1, figsize = (10, 5))\n",
    "\n",
    "# Defining barplot:\n",
    "sns.barplot(x = 'Education', \n",
    "            y = 'Percentage', \n",
    "            hue = 'Response',\n",
    "            data = edu_resp_df,\n",
    "            order = ['Basic', '2n Cycle', 'Graduation', 'Master', 'PhD'],\n",
    "            ci = None, \n",
    "            palette = palette, \n",
    "            ax = ax).set(\n",
    "    title = 'Percentage of Customers per Education According to Campaign Response')\n",
    "\n",
    "# Customizing borders:\n",
    "sns.despine(left=True, top = True)\n",
    "\n",
    "# Saving figure:\n",
    "fig.savefig('plots\\plot8.png')\n",
    "\n",
    "# Showing the figure:\n",
    "fig.show()"
   ]
  },
  {
   "cell_type": "markdown",
   "metadata": {},
   "source": [
    "Customers with a **PhD** are proportionally more likely to respond to the marketing campaign. This group is overrepresented when comparing to clients that didn't respond to the campaign.\n",
    "\n",
    "It could be studied if the language used in the campaign reaches out more effectively to people with higher educational degrees or if these people are more likely to use the store channels where these marketing campaigns are more visible. "
   ]
  },
  {
   "cell_type": "markdown",
   "metadata": {},
   "source": [
    "### 3.5 Income<a name=\"income\"></a>"
   ]
  },
  {
   "cell_type": "code",
   "execution_count": 40,
   "metadata": {},
   "outputs": [
    {
     "name": "stdout",
     "output_type": "stream",
     "text": [
      "Overall customers:\n",
      "------------------\n",
      "The household annual income is, on average, 52231.86.\n",
      "The median household annual income is 51222.5.\n",
      "\n",
      "Customers who were not responsive to the campaign:\n",
      "--------------------------------------------------\n",
      "Average annual income: 50838.4;\n",
      "Median annual income: 50138.5.\n",
      "\n",
      "Customers who were responsive to the campaign:\n",
      "----------------------------------------------\n",
      "Average annual income: 60183.7;\n",
      "Median annual income: 64044.0.\n"
     ]
    }
   ],
   "source": [
    "print('Overall customers:')\n",
    "print('------------------')\n",
    "print('The household annual income is, on average, {:.2f}.'.format(cust_df.Income.describe()['mean']))\n",
    "print('The median household annual income is {}.'.format(cust_df.Income.describe()['50%']))\n",
    "\n",
    "print('\\nCustomers who were not responsive to the campaign:')\n",
    "print('--------------------------------------------------')\n",
    "print('Average annual income: {:.1f};'.format(cust_df.groupby(['Response']).Income.mean()[0]))\n",
    "print('Median annual income: {}.'.format(cust_df.groupby(['Response']).Income.median()[0]))\n",
    "\n",
    "print('\\nCustomers who were responsive to the campaign:')\n",
    "print('----------------------------------------------')\n",
    "print('Average annual income: {:.1f};'.format(cust_df.groupby(['Response']).Income.mean()[1]))\n",
    "print('Median annual income: {}.'.format(cust_df.groupby(['Response']).Income.median()[1]))"
   ]
  },
  {
   "cell_type": "code",
   "execution_count": 41,
   "metadata": {},
   "outputs": [
    {
     "data": {
      "text/plain": [
       "count      2240.000000\n",
       "mean      52231.860714\n",
       "std       25039.866195\n",
       "min        1730.000000\n",
       "25%       35538.750000\n",
       "50%       51222.500000\n",
       "75%       68289.750000\n",
       "max      666666.000000\n",
       "Name: Income, dtype: float64"
      ]
     },
     "execution_count": 41,
     "metadata": {},
     "output_type": "execute_result"
    }
   ],
   "source": [
    "# Checking Income quartiles:\n",
    "cust_df.Income.describe()"
   ]
  },
  {
   "cell_type": "markdown",
   "metadata": {},
   "source": [
    "Income will be divided into eight groups:\n",
    "* less than 20.000 household income;\n",
    "* 20.000 - 29.999,99 household income;\n",
    "* 30.000 - 39.999,99 household income;\n",
    "* 40.000 - 49.999,99 household income;\n",
    "* 50.000 - 59.999,99 household income;\n",
    "* 60.000 - 69.999,99 household income;\n",
    "* 70.000 - 79.999,99 household income;\n",
    "* more than or equal to 80.000 annual income."
   ]
  },
  {
   "cell_type": "code",
   "execution_count": 42,
   "metadata": {},
   "outputs": [],
   "source": [
    "# Creating Income Group feature:\n",
    "cust_df['Income_Group'] = ['<20.000' if cust_df.Income[i] < 20000 \\\n",
    "                           else '20.000-29.999' if 20000 <= cust_df.Income[i] < 30000 \\\n",
    "                           else '30.000-39.999' if 30000 <= cust_df.Income[i] < 40000 \\\n",
    "                           else '40.000-49.999' if 40000 <= cust_df.Income[i] < 50000 \\\n",
    "                           else '50.000-59.999' if 50000 <= cust_df.Income[i] < 60000 \\\n",
    "                           else '60.000-69.999' if 60000 <= cust_df.Income[i] < 70000 \\\n",
    "                           else '70.000-79.999' if 70000 <= cust_df.Income[i] < 80000 \\\n",
    "                           else '>=80.000' \\\n",
    "                           for i in range(cust_df.shape[0])]"
   ]
  },
  {
   "cell_type": "code",
   "execution_count": 43,
   "metadata": {},
   "outputs": [],
   "source": [
    "# Creating Income Group dataframe:\n",
    "income_df = pd.DataFrame(columns = ['Income', 'Percentage'])\n",
    "income_df['Income'] = cust_df.Income_Group.value_counts(normalize = True).index.values\n",
    "income_df['Percentage'] = cust_df.Income_Group.value_counts(normalize = True).values * 100"
   ]
  },
  {
   "cell_type": "code",
   "execution_count": 44,
   "metadata": {
    "scrolled": true
   },
   "outputs": [
    {
     "data": {
      "image/png": "[encoded data removed]",
      "text/plain": [
       "<Figure size 936x288 with 1 Axes>"
      ]
     },
     "metadata": {
      "needs_background": "light"
     },
     "output_type": "display_data"
    }
   ],
   "source": [
    "# Defining figure:\n",
    "fig, ax = plt.subplots(nrows = 1, ncols = 1, figsize = (13, 4))\n",
    "\n",
    "# Defining barplot:\n",
    "sns.barplot(x = 'Income', \n",
    "            y = 'Percentage', \n",
    "            data = income_df, \n",
    "            order = ['<20.000', '20.000-29.999', '30.000-39.999', '40.000-49.999', \n",
    "                     '50.000-59.999', '60.000-69.999', '70.000-79.999', '>=80.000'], \n",
    "            color = 'darkgray', \n",
    "            ax = ax).set(\n",
    "    title = 'Percentage of Customers by Income Group')\n",
    "\n",
    "# Customizing borders:\n",
    "sns.despine(left=True, top = True)\n",
    "\n",
    "# Saving figure:\n",
    "fig.savefig('plots\\plot9.png')\n",
    "\n",
    "# Showing the figure:\n",
    "fig.show()"
   ]
  },
  {
   "cell_type": "markdown",
   "metadata": {},
   "source": [
    "We can see that the company's customers are mostly related to **medium and high incomes**.\n",
    "\n",
    "About 75% of the customers have an annual household income higher than 35k and about 50% of the customers higher than 50k."
   ]
  },
  {
   "cell_type": "code",
   "execution_count": 45,
   "metadata": {},
   "outputs": [],
   "source": [
    "# Creating Income dataframe by Response:\n",
    "# 0\n",
    "inc0_df = pd.DataFrame(columns = ['Income', 'Percentage'])\n",
    "inc0_df['Income'] = cust_df[cust_df.Response == 0].Income_Group.value_counts(normalize = True).index.values\n",
    "inc0_df['Percentage'] = cust_df[cust_df.Response == 0].Income_Group.value_counts(normalize = True).values * 100\n",
    "inc0_df['Response'] = 0\n",
    "\n",
    "# 1:\n",
    "inc1_df = pd.DataFrame(columns = ['Income', 'Percentage'])\n",
    "inc1_df['Income'] = cust_df[cust_df.Response == 1].Income_Group.value_counts(normalize = True).index.values\n",
    "inc1_df['Percentage'] = cust_df[cust_df.Response == 1].Income_Group.value_counts(normalize = True).values * 100\n",
    "inc1_df['Response'] = 1\n",
    "\n",
    "# Concatenating:\n",
    "inc_resp_df = pd.concat([inc0_df, inc1_df], ignore_index = True)"
   ]
  },
  {
   "cell_type": "code",
   "execution_count": 46,
   "metadata": {},
   "outputs": [
    {
     "data": {
      "image/png": "[encoded data removed]",
      "text/plain": [
       "<Figure size 936x360 with 1 Axes>"
      ]
     },
     "metadata": {
      "needs_background": "light"
     },
     "output_type": "display_data"
    }
   ],
   "source": [
    "# Defining figure:\n",
    "fig, ax = plt.subplots(nrows = 1, ncols = 1, figsize = (13, 5))\n",
    "\n",
    "# Defining barplot:\n",
    "sns.barplot(x = 'Income', \n",
    "            y = 'Percentage', \n",
    "            hue = 'Response',\n",
    "            data = inc_resp_df,\n",
    "            order = ['<20.000', '20.000-29.999', '30.000-39.999', '40.000-49.999', \n",
    "                     '50.000-59.999', '60.000-69.999', '70.000-79.999', '>=80.000'],\n",
    "            ci = None, \n",
    "            palette = palette, \n",
    "            ax = ax).set(\n",
    "    title = 'Percentage of Customers per Income According to Campaign Response')\n",
    "\n",
    "# Customizing borders:\n",
    "sns.despine(left=True, top = True)\n",
    "\n",
    "# Saving figure:\n",
    "fig.savefig('plots\\plot10.png')\n",
    "\n",
    "# Showing the figure:\n",
    "fig.show()"
   ]
  },
  {
   "cell_type": "markdown",
   "metadata": {},
   "source": [
    "We can see a huge **overrepresentation** of customers earning **over 80k** among the ones that were responsive to the campaign.\n",
    "\n",
    "They represent about 10% of the customers and about 6% among customers that didn't respond to the campaign. However, when considering the customers that **were responsive** to the campaign, they represent **over 25%**.\n",
    "\n",
    "Customers with a household income between 70k and 79k are also overrepresented on a lower scale.\n",
    "\n",
    "Once again, it should be studied whether customers related to higher incomes are using channels that expose them more to the campaigns or if the language used in the campaigns is more related to these groups."
   ]
  },
  {
   "cell_type": "markdown",
   "metadata": {},
   "source": [
    "### 3.6 - Overall Amount Spent on Products<a name=\"amount\"></a>"
   ]
  },
  {
   "cell_type": "code",
   "execution_count": 47,
   "metadata": {},
   "outputs": [
    {
     "name": "stdout",
     "output_type": "stream",
     "text": [
      "The total revenue in this period of two years was 1356988 MU.\n",
      "\n",
      "On average, each customer spents about 71.76 MU per month on the company's products.\n"
     ]
    }
   ],
   "source": [
    "print('The total revenue in this period of two years was {} MU.'.format(sum(cust_df.Total_Amount_Spent)))\n",
    "print(\"\\nOn average, each customer spents about {:.2f} MU per month on the company's products.\"\\\n",
    "      .format(sum(cust_df.Avg_Amount_Spent_per_month) / cust_df.shape[0]))"
   ]
  },
  {
   "cell_type": "code",
   "execution_count": 48,
   "metadata": {},
   "outputs": [
    {
     "data": {
      "image/png": "[encoded data removed]",
      "text/plain": [
       "<Figure size 360x360 with 1 Axes>"
      ]
     },
     "metadata": {
      "needs_background": "light"
     },
     "output_type": "display_data"
    }
   ],
   "source": [
    "# Defining figure:\n",
    "fig, ax = plt.subplots(nrows = 1, ncols = 1, figsize = (5, 5))\n",
    "\n",
    "# Defining barplot:\n",
    "sns.barplot(x = 'Response', \n",
    "            y = 'Avg_Amount_Spent_per_month', \n",
    "            hue = 'Response',\n",
    "            data = cust_df,\n",
    "            ci = None, \n",
    "            palette = palette, \n",
    "            ax = ax).set(\n",
    "    title = 'Avg Monthly Amount Spent \\nper Customer According to Campaign Response')\n",
    "\n",
    "# Customizing borders:\n",
    "sns.despine(left=True, top = True)\n",
    "\n",
    "# Saving figure:\n",
    "fig.savefig('plots\\plot11.png')\n",
    "\n",
    "# Showing the figure:\n",
    "fig.show()"
   ]
  },
  {
   "cell_type": "markdown",
   "metadata": {},
   "source": [
    "We can see that customers with higher monthly amounts spent on products are more likely to respond to the marketing campaign:\n",
    "* clients with an average amount lower than the average monthly amount aren't likely to respond to the campaign;\n",
    "* clients with an average amount higher than the average monthly amount are more likely to respond to the campaign."
   ]
  },
  {
   "cell_type": "markdown",
   "metadata": {},
   "source": [
    "### 3.7 Marketing Campaigns Similarity<a name=\"campaigns\"></a>\n",
    "\n",
    "The purpose is to discover whether or not the customers that responded to the previous marketing campaign are the same customers that responded to the last campaign.\n",
    "\n",
    "Considering the total number of customers that responded to a previous campaign, we are going to compute the percentage of them that also responded to the last campaign:"
   ]
  },
  {
   "cell_type": "code",
   "execution_count": 49,
   "metadata": {},
   "outputs": [],
   "source": [
    "# Defining function to compare previous and last marketing campaign responses:\n",
    "def compare_campaign_response(campaign1, campaign2):\n",
    "    '''\n",
    "    It computes the percentage of customers that responded to both campaigns.\n",
    "    \n",
    "    Inputs:\n",
    "    campaign1: string, column name indicating campaign1 response;\n",
    "    campaign2: string, column name indicating campaign2 response.\n",
    "    '''\n",
    "    # Computing mutual response:\n",
    "    series_response = cust_df[cust_df[campaign1] == 1][campaign2].value_counts()\n",
    "    mutual_response = series_response[1]\n",
    "    \n",
    "    # Computing the total response for campaign 1:\n",
    "    total_resp1 = series_response[0] + series_response[1]\n",
    "\n",
    "    # Computing the percentage of customers that responded to both campaigns:\n",
    "    common_perc = (mutual_response / total_resp1) * 100\n",
    "    \n",
    "    # Printing result:\n",
    "    print('{:.1f}% of the customers that responded to both campaigns.'.format(common_perc))"
   ]
  },
  {
   "cell_type": "code",
   "execution_count": 50,
   "metadata": {
    "scrolled": false
   },
   "outputs": [
    {
     "name": "stdout",
     "output_type": "stream",
     "text": [
      "1st Campaign vs. Last Campaign:\n",
      "-------------------------------\n",
      "54.9% of the customers that responded to both campaigns.\n",
      "\n",
      "2nd Campaign vs. Last Campaign:\n",
      "-------------------------------\n",
      "66.7% of the customers that responded to both campaigns.\n",
      "\n",
      "3rd Campaign vs. Last Campaign:\n",
      "-------------------------------\n",
      "47.2% of the customers that responded to both campaigns.\n",
      "\n",
      "4th Campaign vs. Last Campaign:\n",
      "-------------------------------\n",
      "37.1% of the customers that responded to both campaigns.\n",
      "\n",
      "5th Campaign vs. Last Campaign:\n",
      "-------------------------------\n",
      "56.4% of the customers that responded to both campaigns.\n",
      "\n",
      "Complain vs. Last Campaign:\n",
      "---------------------------\n",
      "14.3% of the customers that responded to both campaigns.\n"
     ]
    }
   ],
   "source": [
    "print('1st Campaign vs. Last Campaign:')\n",
    "print('-------------------------------')\n",
    "compare_campaign_response('AcceptedCmp1', 'Response')\n",
    "\n",
    "print('\\n2nd Campaign vs. Last Campaign:')\n",
    "print('-------------------------------')\n",
    "compare_campaign_response('AcceptedCmp2', 'Response')\n",
    "\n",
    "print('\\n3rd Campaign vs. Last Campaign:')\n",
    "print('-------------------------------')\n",
    "compare_campaign_response('AcceptedCmp3', 'Response')\n",
    "\n",
    "print('\\n4th Campaign vs. Last Campaign:')\n",
    "print('-------------------------------')\n",
    "compare_campaign_response('AcceptedCmp4', 'Response')\n",
    "\n",
    "print('\\n5th Campaign vs. Last Campaign:')\n",
    "print('-------------------------------')\n",
    "compare_campaign_response('AcceptedCmp5', 'Response')\n",
    "\n",
    "print('\\nComplain vs. Last Campaign:')\n",
    "print('---------------------------')\n",
    "compare_campaign_response('Complain', 'Response')"
   ]
  },
  {
   "cell_type": "markdown",
   "metadata": {},
   "source": [
    "Although there's no guarantee that customers with a previous positive response to marketing campaign are more likely to respond to a future campaign if we consider the 1st, 2nd, and 5th campaign in comparison to the last campaign, we can see that **over 50% of them responded to both marketing campaigns**.\n",
    "\n",
    "The third campaign showed a mutual response close to 50% and the 4th campaign showed the lowest mutual response percentage (37%) when comparing to the last campaign.\n",
    "\n",
    "Also, we could see that only 14% of the customers who complained during this period of 2 years have responded to the last marketing campaign.\n",
    "\n",
    "With that in mind, it will be created one new column indicating the total number of previous campaign response for each customer:"
   ]
  },
  {
   "cell_type": "code",
   "execution_count": 51,
   "metadata": {},
   "outputs": [
    {
     "data": {
      "text/plain": [
       "0    1777\n",
       "1     325\n",
       "2      83\n",
       "3      44\n",
       "4      11\n",
       "Name: Total_Prev_Response, dtype: int64"
      ]
     },
     "execution_count": 51,
     "metadata": {},
     "output_type": "execute_result"
    }
   ],
   "source": [
    "# Creating total previous response column:\n",
    "cust_df['Total_Prev_Response'] = [cust_df.AcceptedCmp1[i] + cust_df.AcceptedCmp2[i] + cust_df.AcceptedCmp3[i] + \\\n",
    "                                  cust_df.AcceptedCmp4[i] + cust_df.AcceptedCmp5[i] \\\n",
    "                                  for i in range(cust_df.shape[0])]\n",
    "\n",
    "# Checking the result:\n",
    "cust_df.Total_Prev_Response.value_counts()"
   ]
  },
  {
   "cell_type": "markdown",
   "metadata": {},
   "source": [
    "We can see that none of the customers responded to all 5 marketing campaigns, 11 customers responded to 4 campaigns, and 325 have only responded to one of the campaigns.\n",
    "\n",
    "On the other hand, 1777 customers haven't answered any of the marketing campaigns during this period, representing almost 80% of the clients."
   ]
  },
  {
   "cell_type": "code",
   "execution_count": 52,
   "metadata": {},
   "outputs": [
    {
     "data": {
      "text/plain": [
       "0    1631\n",
       "1     146\n",
       "Name: Response, dtype: int64"
      ]
     },
     "execution_count": 52,
     "metadata": {},
     "output_type": "execute_result"
    }
   ],
   "source": [
    "# Checking how many customers that hadn't responded to other campaigns, responded to the last one:\n",
    "cust_df[cust_df.Total_Prev_Response == 0].Response.value_counts()"
   ]
  },
  {
   "cell_type": "code",
   "execution_count": 53,
   "metadata": {},
   "outputs": [
    {
     "data": {
      "text/plain": [
       "0    1906\n",
       "1     334\n",
       "Name: Response, dtype: int64"
      ]
     },
     "execution_count": 53,
     "metadata": {},
     "output_type": "execute_result"
    }
   ],
   "source": [
    "# Checking the total number of customers that responded to the last campaign:\n",
    "cust_df.Response.value_counts()"
   ]
  },
  {
   "cell_type": "markdown",
   "metadata": {},
   "source": [
    "It's curious to see that **about 45% of the customers who responded to the last campaign hadn't responded to any other campaign before**.\n",
    "\n",
    "Let's check now which campaign was more successful during this period:"
   ]
  },
  {
   "cell_type": "code",
   "execution_count": 54,
   "metadata": {},
   "outputs": [
    {
     "data": {
      "text/plain": [
       "Campaign\n",
       "AcceptedCmp1    144\n",
       "AcceptedCmp2     30\n",
       "AcceptedCmp3    163\n",
       "AcceptedCmp4    167\n",
       "AcceptedCmp5    163\n",
       "Response        334\n",
       "Name: Camp_Response, dtype: int64"
      ]
     },
     "execution_count": 54,
     "metadata": {},
     "output_type": "execute_result"
    }
   ],
   "source": [
    "# Creating Campaign dataframe:\n",
    "campaigns = ['AcceptedCmp1', 'AcceptedCmp2', 'AcceptedCmp3', 'AcceptedCmp4', 'AcceptedCmp5', 'Response']\n",
    "campaigns_df = pd.melt(cust_df, id_vars = ['ID'], value_vars = campaigns, \n",
    "                       var_name = 'Campaign', value_name='Camp_Response')\n",
    "\n",
    "campaigns_df.groupby('Campaign').Camp_Response.sum()"
   ]
  },
  {
   "cell_type": "markdown",
   "metadata": {},
   "source": [
    "The worst marketing campaign was the second one, with only 30 respondents.\n",
    "\n",
    "The other previous campaign performed similarly. The **last campaign** is by far the one with the **highest potential**, reaching out to 50% more customers than the 4th campaign, which so far had resulted in the highest number of positive responses."
   ]
  },
  {
   "cell_type": "markdown",
   "metadata": {},
   "source": [
    "## 4. Cluster Analysis<a name=\"clusteranalysis\"></a>"
   ]
  },
  {
   "cell_type": "markdown",
   "metadata": {},
   "source": [
    "### 4.1 Data Transformation<a name=\"datatrans\"></a>\n",
    "\n",
    "To proceed with the clustering process, we are going to select the features and apply a few transformations:\n",
    "* categorical columns will be binarized using *get_dummies*;\n",
    "* numerical features will be standardized using *StandardScaler*."
   ]
  },
  {
   "cell_type": "code",
   "execution_count": 55,
   "metadata": {},
   "outputs": [],
   "source": [
    "# Columns selection:\n",
    "# All the selected columns:\n",
    "clust_cols = ['Age_Group', 'Education', 'Income_Group', 'Marital_Status', 'Kidhome', 'Recency', 'Teenhome', \n",
    "              'avg_FishProds_per_month', 'avg_MeatProds_per_month', 'avg_Fruits_per_month', 'avg_SweetProds_per_month', \n",
    "              'avg_Wines_per_month', 'avg_GoldProds_per_month', 'avg_CatalogPrch_per_month', 'avg_DealsPrch_per_month', \n",
    "              'avg_StorePrch_per_month', 'avg_WebPrch_per_month', 'Total_Prev_Response', 'Complain']\n",
    "\n",
    "# Categorical features:\n",
    "clust_cat_cols = ['Age_Group', 'Education', 'Income_Group', 'Marital_Status']\n",
    "\n",
    "# Numerical features:\n",
    "clust_num_cols = ['Kidhome', 'Recency', 'Teenhome', 'avg_FishProds_per_month', 'avg_MeatProds_per_month', \n",
    "                  'avg_Fruits_per_month', 'avg_SweetProds_per_month', 'avg_Wines_per_month', 'avg_GoldProds_per_month', \n",
    "                  'avg_CatalogPrch_per_month', 'avg_DealsPrch_per_month', 'avg_StorePrch_per_month', 'avg_WebPrch_per_month', \n",
    "                  'Total_Prev_Response']"
   ]
  },
  {
   "cell_type": "code",
   "execution_count": 56,
   "metadata": {},
   "outputs": [],
   "source": [
    "# Defining function to apply data transformations:\n",
    "def apply_data_transformation(df):\n",
    "    '''\n",
    "    It selects specific columns, applies get_dummies method to the categorical features, and standardizes\n",
    "    numerical features using StandardScaler.\n",
    "    \n",
    "    Input:\n",
    "    df: original dataframe.\n",
    "    \n",
    "    Output:\n",
    "    trans_df: dataframe after transformations.\n",
    "    '''\n",
    "    # Selecting columns:\n",
    "    trans_df = df[clust_cols]\n",
    "    \n",
    "    # Applying categorical transformation:\n",
    "    for cat in clust_cat_cols:\n",
    "        # Delete original column and cocatenate dummy columns:\n",
    "        trans_df = pd.concat([trans_df.drop(cat, axis = 1), pd.get_dummies(trans_df[cat], prefix = cat, \\\n",
    "                                                                           prefix_sep = '_')], axis = 1)\n",
    "        \n",
    "    # Applying numerical transformation:\n",
    "    scaler = StandardScaler()\n",
    "    trans_df[clust_num_cols] = scaler.fit_transform(trans_df[clust_num_cols])\n",
    "    \n",
    "    return trans_df"
   ]
  },
  {
   "cell_type": "code",
   "execution_count": 57,
   "metadata": {},
   "outputs": [
    {
     "data": {
      "text/html": [
       "<div>\n",
       "<style scoped>\n",
       "    .dataframe tbody tr th:only-of-type {\n",
       "        vertical-align: middle;\n",
       "    }\n",
       "\n",
       "    .dataframe tbody tr th {\n",
       "        vertical-align: top;\n",
       "    }\n",
       "\n",
       "    .dataframe thead th {\n",
       "        text-align: right;\n",
       "    }\n",
       "</style>\n",
       "<table border=\"1\" class=\"dataframe\">\n",
       "  <thead>\n",
       "    <tr style=\"text-align: right;\">\n",
       "      <th></th>\n",
       "      <th>Kidhome</th>\n",
       "      <th>Recency</th>\n",
       "      <th>Teenhome</th>\n",
       "      <th>avg_FishProds_per_month</th>\n",
       "      <th>avg_MeatProds_per_month</th>\n",
       "      <th>avg_Fruits_per_month</th>\n",
       "      <th>avg_SweetProds_per_month</th>\n",
       "      <th>avg_Wines_per_month</th>\n",
       "      <th>avg_GoldProds_per_month</th>\n",
       "      <th>avg_CatalogPrch_per_month</th>\n",
       "      <th>...</th>\n",
       "      <th>Income_Group_&lt;20.000</th>\n",
       "      <th>Income_Group_&gt;=80.000</th>\n",
       "      <th>Marital_Status_Absurd</th>\n",
       "      <th>Marital_Status_Alone</th>\n",
       "      <th>Marital_Status_Divorced</th>\n",
       "      <th>Marital_Status_Married</th>\n",
       "      <th>Marital_Status_Single</th>\n",
       "      <th>Marital_Status_Together</th>\n",
       "      <th>Marital_Status_Widow</th>\n",
       "      <th>Marital_Status_YOLO</th>\n",
       "    </tr>\n",
       "  </thead>\n",
       "  <tbody>\n",
       "    <tr>\n",
       "      <th>0</th>\n",
       "      <td>-0.825218</td>\n",
       "      <td>0.307039</td>\n",
       "      <td>-0.929894</td>\n",
       "      <td>0.214187</td>\n",
       "      <td>0.076064</td>\n",
       "      <td>0.060757</td>\n",
       "      <td>0.067004</td>\n",
       "      <td>-0.121127</td>\n",
       "      <td>-0.106500</td>\n",
       "      <td>0.177224</td>\n",
       "      <td>...</td>\n",
       "      <td>0</td>\n",
       "      <td>0</td>\n",
       "      <td>0</td>\n",
       "      <td>0</td>\n",
       "      <td>0</td>\n",
       "      <td>0</td>\n",
       "      <td>1</td>\n",
       "      <td>0</td>\n",
       "      <td>0</td>\n",
       "      <td>0</td>\n",
       "    </tr>\n",
       "    <tr>\n",
       "      <th>1</th>\n",
       "      <td>1.032559</td>\n",
       "      <td>-0.383664</td>\n",
       "      <td>0.906934</td>\n",
       "      <td>-0.341560</td>\n",
       "      <td>-0.431885</td>\n",
       "      <td>-0.361203</td>\n",
       "      <td>-0.380877</td>\n",
       "      <td>-0.516491</td>\n",
       "      <td>-0.321829</td>\n",
       "      <td>-0.189656</td>\n",
       "      <td>...</td>\n",
       "      <td>0</td>\n",
       "      <td>0</td>\n",
       "      <td>0</td>\n",
       "      <td>0</td>\n",
       "      <td>0</td>\n",
       "      <td>0</td>\n",
       "      <td>1</td>\n",
       "      <td>0</td>\n",
       "      <td>0</td>\n",
       "      <td>0</td>\n",
       "    </tr>\n",
       "    <tr>\n",
       "      <th>2</th>\n",
       "      <td>-0.825218</td>\n",
       "      <td>-0.798086</td>\n",
       "      <td>-0.929894</td>\n",
       "      <td>0.394194</td>\n",
       "      <td>-0.207868</td>\n",
       "      <td>0.117283</td>\n",
       "      <td>-0.178043</td>\n",
       "      <td>0.033038</td>\n",
       "      <td>-0.117508</td>\n",
       "      <td>-0.244384</td>\n",
       "      <td>...</td>\n",
       "      <td>0</td>\n",
       "      <td>0</td>\n",
       "      <td>0</td>\n",
       "      <td>0</td>\n",
       "      <td>0</td>\n",
       "      <td>0</td>\n",
       "      <td>0</td>\n",
       "      <td>1</td>\n",
       "      <td>0</td>\n",
       "      <td>0</td>\n",
       "    </tr>\n",
       "    <tr>\n",
       "      <th>3</th>\n",
       "      <td>1.032559</td>\n",
       "      <td>-0.798086</td>\n",
       "      <td>-0.929894</td>\n",
       "      <td>-0.234818</td>\n",
       "      <td>-0.380086</td>\n",
       "      <td>-0.302815</td>\n",
       "      <td>-0.340883</td>\n",
       "      <td>-0.521999</td>\n",
       "      <td>-0.352825</td>\n",
       "      <td>-0.530962</td>\n",
       "      <td>...</td>\n",
       "      <td>0</td>\n",
       "      <td>0</td>\n",
       "      <td>0</td>\n",
       "      <td>0</td>\n",
       "      <td>0</td>\n",
       "      <td>0</td>\n",
       "      <td>0</td>\n",
       "      <td>1</td>\n",
       "      <td>0</td>\n",
       "      <td>0</td>\n",
       "    </tr>\n",
       "    <tr>\n",
       "      <th>4</th>\n",
       "      <td>1.032559</td>\n",
       "      <td>1.550305</td>\n",
       "      <td>-0.929894</td>\n",
       "      <td>0.194577</td>\n",
       "      <td>-0.041305</td>\n",
       "      <td>0.402802</td>\n",
       "      <td>0.118661</td>\n",
       "      <td>-0.127701</td>\n",
       "      <td>-0.229616</td>\n",
       "      <td>0.236977</td>\n",
       "      <td>...</td>\n",
       "      <td>0</td>\n",
       "      <td>0</td>\n",
       "      <td>0</td>\n",
       "      <td>0</td>\n",
       "      <td>0</td>\n",
       "      <td>1</td>\n",
       "      <td>0</td>\n",
       "      <td>0</td>\n",
       "      <td>0</td>\n",
       "      <td>0</td>\n",
       "    </tr>\n",
       "  </tbody>\n",
       "</table>\n",
       "<p>5 rows × 41 columns</p>\n",
       "</div>"
      ],
      "text/plain": [
       "    Kidhome   Recency  Teenhome  avg_FishProds_per_month  \\\n",
       "0 -0.825218  0.307039 -0.929894                 0.214187   \n",
       "1  1.032559 -0.383664  0.906934                -0.341560   \n",
       "2 -0.825218 -0.798086 -0.929894                 0.394194   \n",
       "3  1.032559 -0.798086 -0.929894                -0.234818   \n",
       "4  1.032559  1.550305 -0.929894                 0.194577   \n",
       "\n",
       "   avg_MeatProds_per_month  avg_Fruits_per_month  avg_SweetProds_per_month  \\\n",
       "0                 0.076064              0.060757                  0.067004   \n",
       "1                -0.431885             -0.361203                 -0.380877   \n",
       "2                -0.207868              0.117283                 -0.178043   \n",
       "3                -0.380086             -0.302815                 -0.340883   \n",
       "4                -0.041305              0.402802                  0.118661   \n",
       "\n",
       "   avg_Wines_per_month  avg_GoldProds_per_month  avg_CatalogPrch_per_month  \\\n",
       "0            -0.121127                -0.106500                   0.177224   \n",
       "1            -0.516491                -0.321829                  -0.189656   \n",
       "2             0.033038                -0.117508                  -0.244384   \n",
       "3            -0.521999                -0.352825                  -0.530962   \n",
       "4            -0.127701                -0.229616                   0.236977   \n",
       "\n",
       "   ...  Income_Group_<20.000  Income_Group_>=80.000  Marital_Status_Absurd  \\\n",
       "0  ...                     0                      0                      0   \n",
       "1  ...                     0                      0                      0   \n",
       "2  ...                     0                      0                      0   \n",
       "3  ...                     0                      0                      0   \n",
       "4  ...                     0                      0                      0   \n",
       "\n",
       "   Marital_Status_Alone  Marital_Status_Divorced  Marital_Status_Married  \\\n",
       "0                     0                        0                       0   \n",
       "1                     0                        0                       0   \n",
       "2                     0                        0                       0   \n",
       "3                     0                        0                       0   \n",
       "4                     0                        0                       1   \n",
       "\n",
       "   Marital_Status_Single  Marital_Status_Together  Marital_Status_Widow  \\\n",
       "0                      1                        0                     0   \n",
       "1                      1                        0                     0   \n",
       "2                      0                        1                     0   \n",
       "3                      0                        1                     0   \n",
       "4                      0                        0                     0   \n",
       "\n",
       "   Marital_Status_YOLO  \n",
       "0                    0  \n",
       "1                    0  \n",
       "2                    0  \n",
       "3                    0  \n",
       "4                    0  \n",
       "\n",
       "[5 rows x 41 columns]"
      ]
     },
     "execution_count": 57,
     "metadata": {},
     "output_type": "execute_result"
    }
   ],
   "source": [
    "# Applying transformations:\n",
    "cluster_df = apply_data_transformation(cust_df)\n",
    "\n",
    "cluster_df.head()"
   ]
  },
  {
   "cell_type": "markdown",
   "metadata": {},
   "source": [
    "### 4.2 The Elbow Method<a name=\"elbow\"></a>\n",
    "\n",
    "To better decide on the optimal number of clusters, the **Elbow Method** will be used:"
   ]
  },
  {
   "cell_type": "code",
   "execution_count": 58,
   "metadata": {},
   "outputs": [],
   "source": [
    "# Defining function to create Elbow Method Visualization\n",
    "def apply_elbow_method(df):\n",
    "    '''\n",
    "    It returns a visualization that shows the sum of squared distances of samples to their closest cluster\n",
    "    center for each attempt of number of clusters.\n",
    "    \n",
    "    Input:\n",
    "    df: dataframe on which cluster analysis will be performed.\n",
    "    '''\n",
    "    # Defining number of clusters attempts:\n",
    "    n_cluster = range(2, 9)\n",
    "    \n",
    "    # Creating inertia list:\n",
    "    wcss = list()\n",
    "    \n",
    "    # Perform K-Means for each attempt and extract its 'inertia' (sum of quared distances to their closest cluster):\n",
    "    for n in n_cluster:\n",
    "        kmeans = KMeans(n_clusters = n)\n",
    "        kmeans.fit(df)\n",
    "        wcss.append(kmeans.inertia_)\n",
    "        \n",
    "    # Creating the visualization:\n",
    "    fig, ax = plt.subplots(nrows = 1, ncols = 1, figsize = (13, 5))\n",
    "    \n",
    "    # Drawing lineplot:\n",
    "    sns.lineplot(x = n_cluster, y = wcss, \n",
    "                 markers = True, color = 'black').set(xlabel = 'Number of Clusters', \n",
    "                                                      ylabel = 'Sum of Squared Distances', \n",
    "                                                      title = \"Elbow Method - Optimizing Number of Clusters\")\n",
    "    sns.despine()\n",
    "    fig.show()"
   ]
  },
  {
   "cell_type": "code",
   "execution_count": 59,
   "metadata": {},
   "outputs": [
    {
     "data": {
      "image/png": "[encoded data removed]",
      "text/plain": [
       "<Figure size 936x360 with 1 Axes>"
      ]
     },
     "metadata": {
      "needs_background": "light"
     },
     "output_type": "display_data"
    }
   ],
   "source": [
    "# Checking Elbow Method plot:\n",
    "apply_elbow_method(cluster_df)"
   ]
  },
  {
   "cell_type": "markdown",
   "metadata": {},
   "source": [
    "It's possible to see that the most expressive inclination change happens with 4 clusters.\n",
    "\n",
    "Because of that, the cluster analysis will be performed by dividing the customers into **4 different groups**."
   ]
  },
  {
   "cell_type": "markdown",
   "metadata": {},
   "source": [
    "### 4.3 Clustering Customers<a name=\"clustering\"></a>"
   ]
  },
  {
   "cell_type": "code",
   "execution_count": 60,
   "metadata": {},
   "outputs": [
    {
     "data": {
      "text/plain": [
       "KMeans(n_clusters=4, random_state=301)"
      ]
     },
     "execution_count": 60,
     "metadata": {},
     "output_type": "execute_result"
    }
   ],
   "source": [
    "# Training KMeans algorithm::\n",
    "# Instatiating KMeans algorithm for n clusters:\n",
    "kmeans = KMeans(n_clusters = 4, random_state = 301)\n",
    "    \n",
    "# Fitting to data:\n",
    "kmeans.fit(cluster_df)"
   ]
  },
  {
   "cell_type": "markdown",
   "metadata": {},
   "source": [
    "### 4.4 Analyzing Clusters<a name=\"clustergroups\"></a>"
   ]
  },
  {
   "cell_type": "code",
   "execution_count": 61,
   "metadata": {},
   "outputs": [],
   "source": [
    "# Creating a function that, given one specific cluster, returns the most important features associated with it:\n",
    "def cluster_most_important_features(cluster, kmeans = kmeans, top_features = 5):\n",
    "    '''\n",
    "    Given one specific cluster, it searches for the most important features associated to it.\n",
    "    \n",
    "    Input:\n",
    "    cluster: integer indicating the target cluster (0-3);\n",
    "    kmeans: trained kmeans model\n",
    "    top_features: number of most important components to be analyzed.\n",
    "    '''\n",
    "    # Getting cluster center:\n",
    "    cluster_centers = kmeans.cluster_centers_[cluster]\n",
    "    \n",
    "    # Getting more important components - positive values:\n",
    "    pos_idx = np.argsort(cluster_centers)[::-1]\n",
    "    pos_idx = pos_idx[:top_features]\n",
    "    \n",
    "    # Getting more important components - negative values:\n",
    "    neg_idx = np.argsort(cluster_centers)\n",
    "    neg_idx = neg_idx[:top_features]\n",
    "    \n",
    "    # Extracting most important features:\n",
    "    print('+ Values: Principal Features with Highest Impact on Cluster {}:'.format(cluster))\n",
    "    print('--------------------------------------------------------------')\n",
    "    for idx in pos_idx:\n",
    "        print(cluster_df.columns.values[idx])\n",
    "        \n",
    "    print('\\n- Values: Principal Features with Highest Impact on Cluster {}:'.format(cluster))\n",
    "    print('--------------------------------------------------------------')\n",
    "    for idx in neg_idx:\n",
    "        print(cluster_df.columns.values[idx])"
   ]
  },
  {
   "cell_type": "markdown",
   "metadata": {},
   "source": [
    "#### 4.4.1 The Traditional Shoppers<a name=\"clust0\"></a>"
   ]
  },
  {
   "cell_type": "code",
   "execution_count": 62,
   "metadata": {},
   "outputs": [
    {
     "name": "stdout",
     "output_type": "stream",
     "text": [
      "+ Values: Principal Features with Highest Impact on Cluster 0:\n",
      "--------------------------------------------------------------\n",
      "avg_Wines_per_month\n",
      "avg_StorePrch_per_month\n",
      "avg_CatalogPrch_per_month\n",
      "avg_WebPrch_per_month\n",
      "avg_MeatProds_per_month\n",
      "\n",
      "- Values: Principal Features with Highest Impact on Cluster 0:\n",
      "--------------------------------------------------------------\n",
      "Kidhome\n",
      "Teenhome\n",
      "Recency\n",
      "Income_Group_20.000-29.999\n",
      "Education_Basic\n"
     ]
    }
   ],
   "source": [
    "# Cluster 0:\n",
    "cluster_most_important_features(0, top_features = 5)"
   ]
  },
  {
   "cell_type": "markdown",
   "metadata": {},
   "source": [
    "This group represents customers with the following characteristics:\n",
    "* they spend higher amounts per month on wine;\n",
    "\n",
    "* most of them have no children (kids or teenagers);\n",
    "\n",
    "* although their main product is the wine, they also are related to high amounts spent on other different products;\n",
    "\n",
    "* they prefer to buy the products directly at the store or through catalogs;\n",
    "\n",
    "* they are related to higher values of household income, and they probably hold a Graduation degree;\n",
    "\n",
    "* they probably purchase products with higher frequency than others."
   ]
  },
  {
   "cell_type": "markdown",
   "metadata": {},
   "source": [
    "#### 4.4.2 The Family-Starters  Occasional Shoppers<a name=\"clust1\"></a>"
   ]
  },
  {
   "cell_type": "code",
   "execution_count": 63,
   "metadata": {},
   "outputs": [
    {
     "name": "stdout",
     "output_type": "stream",
     "text": [
      "+ Values: Principal Features with Highest Impact on Cluster 1:\n",
      "--------------------------------------------------------------\n",
      "Kidhome\n",
      "Education_Graduation\n",
      "Marital_Status_Married\n",
      "Age_Group_40-49\n",
      "Age_Group_30-39\n",
      "\n",
      "- Values: Principal Features with Highest Impact on Cluster 1:\n",
      "--------------------------------------------------------------\n",
      "avg_Wines_per_month\n",
      "avg_CatalogPrch_per_month\n",
      "avg_MeatProds_per_month\n",
      "avg_SweetProds_per_month\n",
      "avg_StorePrch_per_month\n"
     ]
    }
   ],
   "source": [
    "# Cluster 1:\n",
    "cluster_most_important_features(1, top_features = 5)"
   ]
  },
  {
   "cell_type": "markdown",
   "metadata": {},
   "source": [
    "This group represents customers with the following characteristics:\n",
    "* they are mostly represented by couples (married or not) with kids;\n",
    "\n",
    "* they are mostly between 30 and 49 years old;\n",
    "\n",
    "* they don't spend high amounts per month on any products, and they mostly earn low to medium incomes;\n",
    "\n",
    "* most of them also hold a Graduation degree;\n",
    "\n",
    "* apparently they don't usually respond to marketing campaigns."
   ]
  },
  {
   "cell_type": "markdown",
   "metadata": {},
   "source": [
    "#### 4.4.3 The Light Shoppers<a name=\"clust2\"></a>"
   ]
  },
  {
   "cell_type": "code",
   "execution_count": 64,
   "metadata": {},
   "outputs": [
    {
     "name": "stdout",
     "output_type": "stream",
     "text": [
      "+ Values: Principal Features with Highest Impact on Cluster 2:\n",
      "--------------------------------------------------------------\n",
      "avg_FishProds_per_month\n",
      "avg_Fruits_per_month\n",
      "avg_MeatProds_per_month\n",
      "avg_CatalogPrch_per_month\n",
      "avg_GoldProds_per_month\n",
      "\n",
      "- Values: Principal Features with Highest Impact on Cluster 2:\n",
      "--------------------------------------------------------------\n",
      "Kidhome\n",
      "Teenhome\n",
      "Recency\n",
      "Income_Group_<20.000\n",
      "Income_Group_30.000-39.999\n"
     ]
    }
   ],
   "source": [
    "# Cluster 2:\n",
    "cluster_most_important_features(2, top_features = 5)"
   ]
  },
  {
   "cell_type": "markdown",
   "metadata": {},
   "source": [
    "This group represents customers with the following characteristics:\n",
    "* they can also be considered shoppers, but they stand out for the high values spent on fish, fruits, and meat;\n",
    "\n",
    "* their purchases are specially made through catalogs;\n",
    "\n",
    "* they don't tend to have children (kids or teenagers);\n",
    "\n",
    "* they are associated with the highest household incomes classes (over 70k);\n",
    "\n",
    "* they also are frequent customers, associated with lower values of recency purchase."
   ]
  },
  {
   "cell_type": "markdown",
   "metadata": {},
   "source": [
    "#### 4.4.4 The Well-Educated Occasional Shoppers<a name=\"clust3\"></a>"
   ]
  },
  {
   "cell_type": "code",
   "execution_count": 65,
   "metadata": {},
   "outputs": [
    {
     "name": "stdout",
     "output_type": "stream",
     "text": [
      "+ Values: Principal Features with Highest Impact on Cluster 3:\n",
      "--------------------------------------------------------------\n",
      "Education_Graduation\n",
      "Marital_Status_Married\n",
      "Age_Group_50-59\n",
      "Age_Group_40-49\n",
      "Marital_Status_Together\n",
      "\n",
      "- Values: Principal Features with Highest Impact on Cluster 3:\n",
      "--------------------------------------------------------------\n",
      "Kidhome\n",
      "avg_DealsPrch_per_month\n",
      "avg_StorePrch_per_month\n",
      "avg_WebPrch_per_month\n",
      "avg_FishProds_per_month\n"
     ]
    }
   ],
   "source": [
    "# Cluster 3:\n",
    "cluster_most_important_features(3, top_features = 5)"
   ]
  },
  {
   "cell_type": "markdown",
   "metadata": {},
   "source": [
    "This group represents customers with the following characteristics:\n",
    "* they can be from different ages, but they are all well-educated, holding a Graduation degree or even a PhD;\n",
    "\n",
    "* they are associated with medium and high household incomes, but they don't spend high amounts per month on the company's products;\n",
    "\n",
    "* they don't have kids;\n",
    "\n",
    "* they also might be pictured as traditional shoppers considering their product preferences, but they spend low amounts per month on these products."
   ]
  },
  {
   "cell_type": "markdown",
   "metadata": {},
   "source": [
    "### 4.5 Cluster Insights<a name=\"insights\"></a>\n",
    "\n",
    "Now, we are going to use these different groups to see if we can find some special relationship between the groups and the campaign response."
   ]
  },
  {
   "cell_type": "code",
   "execution_count": 66,
   "metadata": {},
   "outputs": [],
   "source": [
    "# Predicting clusters on customers data:\n",
    "cust_df['Cluster'] = kmeans.predict(cluster_df)\n",
    "cust_df['Cluster'] = ['Trad_Shoppers' if cust_df.Cluster[i] == 0 \\\n",
    "                      else 'Fam_Starters' if cust_df.Cluster[i] == 1 \\\n",
    "                      else 'Light_Shoppers' if cust_df.Cluster[i] == 2 \\\n",
    "                      else 'Well_Educated' \\\n",
    "                      for i in range(cust_df.shape[0])]"
   ]
  },
  {
   "cell_type": "code",
   "execution_count": 67,
   "metadata": {},
   "outputs": [
    {
     "data": {
      "text/plain": [
       "Well_Educated     51.294643\n",
       "Fam_Starters      41.473214\n",
       "Trad_Shoppers      6.428571\n",
       "Light_Shoppers     0.803571\n",
       "Name: Cluster, dtype: float64"
      ]
     },
     "execution_count": 67,
     "metadata": {},
     "output_type": "execute_result"
    }
   ],
   "source": [
    "# Checking group occurrence:\n",
    "cust_df.Cluster.value_counts(normalize = True)*100"
   ]
  },
  {
   "cell_type": "markdown",
   "metadata": {},
   "source": [
    "We can see that most of the clients are classified as **Well-Educated** (over 50% of the customers). \n",
    "\n",
    "The second in the rank, **Family-Starters** represents over 40% of the customers.\n",
    "\n",
    "Traditional-Shoppers represent about 6% of the customers, while Light-Shoppers represent less than 1%.\n",
    "\n",
    "Clients that spend the highest amounts per month on the company's products represent the lowest portion of the customers, indicating that the base core customer profile is composed of well-educated people that spend lower amounts per month on the company's products."
   ]
  },
  {
   "cell_type": "code",
   "execution_count": 68,
   "metadata": {},
   "outputs": [],
   "source": [
    "# Creating Cluster dataframe by Response:\n",
    "# 0\n",
    "cluster0_df = pd.DataFrame(columns = ['Cluster', 'Percentage'])\n",
    "cluster0_df['Cluster'] = cust_df[cust_df.Response == 0].Cluster.value_counts(normalize = True).index.values\n",
    "cluster0_df['Percentage'] = cust_df[cust_df.Response == 0].Cluster.value_counts(normalize = True).values * 100\n",
    "cluster0_df['Response'] = 0\n",
    "\n",
    "# 1:\n",
    "cluster1_df = pd.DataFrame(columns = ['Cluster', 'Percentage'])\n",
    "cluster1_df['Cluster'] = cust_df[cust_df.Response == 1].Cluster.value_counts(normalize = True).index.values\n",
    "cluster1_df['Percentage'] = cust_df[cust_df.Response == 1].Cluster.value_counts(normalize = True).values * 100\n",
    "cluster1_df['Response'] = 1\n",
    "\n",
    "# Concatenating:\n",
    "cluster_resp_df = pd.concat([cluster0_df, cluster1_df], ignore_index = True)"
   ]
  },
  {
   "cell_type": "code",
   "execution_count": 69,
   "metadata": {},
   "outputs": [
    {
     "data": {
      "image/png": "[encoded data removed]",
      "text/plain": [
       "<Figure size 720x504 with 1 Axes>"
      ]
     },
     "metadata": {
      "needs_background": "light"
     },
     "output_type": "display_data"
    }
   ],
   "source": [
    "# Defining figure:\n",
    "fig, ax = plt.subplots(nrows = 1, ncols = 1, figsize = (10, 7))\n",
    "\n",
    "# Defining barplot:\n",
    "sns.barplot(x = 'Cluster', \n",
    "            y = 'Percentage', \n",
    "            hue = 'Response',\n",
    "            data = cluster_resp_df,\n",
    "            order = ['Well_Educated', 'Fam_Starters', 'Trad_Shoppers', 'Light_Shoppers'],\n",
    "            ci = None, \n",
    "            palette = palette, \n",
    "            ax = ax).set(\n",
    "    title = 'Percentage of Customers per Cluster Group According to Campaign Response')\n",
    "\n",
    "# Customizing borders:\n",
    "sns.despine(left=True, top = True)\n",
    "\n",
    "# Saving figure:\n",
    "fig.savefig('plots\\plot12.png')\n",
    "\n",
    "# Showing the figure:\n",
    "fig.show()"
   ]
  },
  {
   "cell_type": "markdown",
   "metadata": {},
   "source": [
    "Proportionally we can say that **Well-Educated Occasional Shoppers** and **Light Shoppers** are especially responsive to the marketing campaign.\n",
    "\n",
    "Although **The Family Starters** represent a high portion of the responsive customers, this group is highly underrepresented when comparing to the ones that didn't respond to the campaign."
   ]
  },
  {
   "cell_type": "code",
   "execution_count": 70,
   "metadata": {},
   "outputs": [
    {
     "name": "stdout",
     "output_type": "stream",
     "text": [
      "Well Educated:\n"
     ]
    },
    {
     "data": {
      "text/plain": [
       "0    82.854656\n",
       "1    17.145344\n",
       "Name: Response, dtype: float64"
      ]
     },
     "execution_count": 70,
     "metadata": {},
     "output_type": "execute_result"
    }
   ],
   "source": [
    "# Checking the percentage of customers that responded to the campaign per group:\n",
    "print('Well Educated:')\n",
    "cust_df[cust_df.Cluster == 'Well_Educated'].Response.value_counts(normalize = True) * 100"
   ]
  },
  {
   "cell_type": "code",
   "execution_count": 71,
   "metadata": {},
   "outputs": [
    {
     "name": "stdout",
     "output_type": "stream",
     "text": [
      "Family Starters:\n"
     ]
    },
    {
     "data": {
      "text/plain": [
       "0    88.159311\n",
       "1    11.840689\n",
       "Name: Response, dtype: float64"
      ]
     },
     "execution_count": 71,
     "metadata": {},
     "output_type": "execute_result"
    }
   ],
   "source": [
    "print('Family Starters:')\n",
    "cust_df[cust_df.Cluster == 'Fam_Starters'].Response.value_counts(normalize = True) * 100"
   ]
  },
  {
   "cell_type": "code",
   "execution_count": 72,
   "metadata": {},
   "outputs": [
    {
     "name": "stdout",
     "output_type": "stream",
     "text": [
      "Traditional Shoppers:\n"
     ]
    },
    {
     "data": {
      "text/plain": [
       "0    84.027778\n",
       "1    15.972222\n",
       "Name: Response, dtype: float64"
      ]
     },
     "execution_count": 72,
     "metadata": {},
     "output_type": "execute_result"
    }
   ],
   "source": [
    "print('Traditional Shoppers:')\n",
    "cust_df[cust_df.Cluster == 'Trad_Shoppers'].Response.value_counts(normalize = True) * 100"
   ]
  },
  {
   "cell_type": "code",
   "execution_count": 73,
   "metadata": {},
   "outputs": [
    {
     "name": "stdout",
     "output_type": "stream",
     "text": [
      "Light Shoppers:\n"
     ]
    },
    {
     "data": {
      "text/plain": [
       "0    77.777778\n",
       "1    22.222222\n",
       "Name: Response, dtype: float64"
      ]
     },
     "execution_count": 73,
     "metadata": {},
     "output_type": "execute_result"
    }
   ],
   "source": [
    "print('Light Shoppers:')\n",
    "cust_df[cust_df.Cluster == 'Light_Shoppers'].Response.value_counts(normalize = True) * 100"
   ]
  },
  {
   "cell_type": "markdown",
   "metadata": {},
   "source": [
    "## 5. Optimizing Marketing Campaign Response<a name=\"optimize\"></a>\n",
    "\n",
    "In order to target customers that are more likely to respond to the marketing campaign, we are going to train a machine learning algorithm in a supervised task.\n",
    "\n",
    "This section will be developed following a few steps:\n",
    "* defining data transformation pipeline;\n",
    "* analyzing learning curves;\n",
    "* defining machine learning pipeline;\n",
    "* training and evaluating the models."
   ]
  },
  {
   "cell_type": "markdown",
   "metadata": {},
   "source": [
    "### 5.1 Data Transformation Pipeline <a name=\"datapipe\"></a>"
   ]
  },
  {
   "cell_type": "code",
   "execution_count": 74,
   "metadata": {},
   "outputs": [],
   "source": [
    "# Defining data transformation pipeline:\n",
    "# Final columns to be used on supervised machine learning task:\n",
    "selected_cols = ['Age_Group', 'Education', 'Income_Group', 'Marital_Status', 'Kidhome', 'Recency', 'Teenhome', \n",
    "                 'avg_FishProds_per_month', 'avg_MeatProds_per_month', 'avg_Fruits_per_month', 'avg_SweetProds_per_month', \n",
    "                 'avg_Wines_per_month', 'avg_GoldProds_per_month', 'avg_CatalogPrch_per_month', 'avg_DealsPrch_per_month', \n",
    "                 'avg_StorePrch_per_month', 'avg_WebPrch_per_month', 'Total_Prev_Response', 'Complain', 'Response']\n",
    "\n",
    "# Categorical features will be one-hot encoded:\n",
    "cat_feat = ['Age_Group', 'Education', 'Income_Group', 'Marital_Status']\n",
    "\n",
    "# Defining categorical transformer:\n",
    "cat_transformer = Pipeline(steps = [('encoder', OneHotEncoder(handle_unknown = 'ignore'))])\n",
    "\n",
    "# Numerical features will be standardized:\n",
    "num_feat = ['Kidhome', 'Recency', 'Teenhome', 'avg_FishProds_per_month', 'avg_MeatProds_per_month', \n",
    "            'avg_Fruits_per_month', 'avg_SweetProds_per_month', 'avg_Wines_per_month', 'avg_GoldProds_per_month', \n",
    "            'avg_CatalogPrch_per_month', 'avg_DealsPrch_per_month', 'avg_StorePrch_per_month', 'avg_WebPrch_per_month', \n",
    "            'Total_Prev_Response', 'Complain']\n",
    "\n",
    "# Defining numerical transformer:\n",
    "num_transformer = Pipeline(steps = [('scaler', StandardScaler())])\n",
    "\n",
    "# Encapsulating transformers:\n",
    "preprocessing = ColumnTransformer(transformers = [\n",
    "    ('cat', cat_transformer, cat_feat), \n",
    "    ('num', num_transformer, num_feat)\n",
    "])"
   ]
  },
  {
   "cell_type": "code",
   "execution_count": 75,
   "metadata": {},
   "outputs": [],
   "source": [
    "# CatBoostClassifier doesn't need categorical variables to be encoded:\n",
    "# Encapsulating transformers for CatBoostClassifier:\n",
    "preprocessing_cat = ColumnTransformer(transformers = [\n",
    "    ('num', num_transformer, num_feat)\n",
    "])"
   ]
  },
  {
   "cell_type": "markdown",
   "metadata": {},
   "source": [
    "### 5.2 Learning Curves<a name=\"learningcurves\"></a>"
   ]
  },
  {
   "cell_type": "code",
   "execution_count": 76,
   "metadata": {},
   "outputs": [],
   "source": [
    "# Defining a function to plot the learning curves:\n",
    "def plot_learning_curves(X, y, model, steps):\n",
    "    '''\n",
    "    It plots the learning curve for the desired algorithm.\n",
    "    \n",
    "    Input:\n",
    "    X: predictive features;\n",
    "    y: target feature;\n",
    "    model: instantiated object of the algorithm to be trained;\n",
    "    steps: integer defining the steps for training size.\n",
    "    '''\n",
    "    # Setting train_sizes:\n",
    "    train_sizes = np.linspace(0.1, 1.0, steps)\n",
    "    \n",
    "    # Applying sklearn learning_curve:\n",
    "    train_size, train_score, test_score = learning_curve(model, X, y, \n",
    "                                                         scoring = 'roc_auc', \n",
    "                                                         train_sizes = train_sizes)\n",
    "    # Computing average train and test scores:\n",
    "    avg_train_score = np.mean(train_score, axis = 1)\n",
    "    avg_test_score = np.mean(test_score, axis = 1)\n",
    "    \n",
    "    # Printing results:\n",
    "    print(\"ROC_AUC train score: {:.2f}\".format(avg_train_score[-1]))\n",
    "    print(\"ROC_AUC valid. score: {:.2f}\".format(avg_test_score[-1]))\n",
    "    \n",
    "    # Creating learning curve plot:\n",
    "    fig, ax = plt.subplots(nrows = 1, ncols = 1, figsize = (15, 5))\n",
    "\n",
    "    sns.lineplot(x = train_sizes * 100, y = avg_train_score, \n",
    "                 marker = 'o', color = 'black', \n",
    "                 label = 'Train', ax = ax).set(xlabel = 'Training Set Percentage', \n",
    "                                               ylabel = 'Model Score', \n",
    "                                               title = 'Learning Curve')\n",
    "\n",
    "    sns.lineplot(x = train_sizes * 100, y = avg_test_score, \n",
    "                 marker = 'o', color = 'red', \n",
    "                 label = 'Validation', ax = ax)\n",
    "\n",
    "    sns.despine(left=True, top = True)\n",
    "\n",
    "    fig.show()"
   ]
  },
  {
   "cell_type": "code",
   "execution_count": 77,
   "metadata": {},
   "outputs": [
    {
     "name": "stdout",
     "output_type": "stream",
     "text": [
      "XGBClassifier\n",
      "ROC_AUC train score: 1.00\n",
      "ROC_AUC valid. score: 0.89\n"
     ]
    },
    {
     "data": {
      "image/png": "[encoded data removed]",
      "text/plain": [
       "<Figure size 1080x360 with 1 Axes>"
      ]
     },
     "metadata": {
      "needs_background": "light"
     },
     "output_type": "display_data"
    }
   ],
   "source": [
    "# XGBClassifier\n",
    " \n",
    "# Print classifier's name:\n",
    "print('XGBClassifier')\n",
    "    \n",
    "# Defining machine learning pipeline:\n",
    "ml_pipe = Pipeline(steps = [\n",
    "    ('preprocessing', preprocessing), \n",
    "    ('clf', XGBClassifier())\n",
    "])\n",
    "    \n",
    "# Creating a randomized version of the train dataframe:\n",
    "df = cust_df[selected_cols].copy()\n",
    "rand_df = df.sample(frac = 1)\n",
    "    \n",
    "# Creating X_train and y_train objects:\n",
    "rand_y = rand_df['Response']\n",
    "rand_X = rand_df.drop(['Response'], axis = 1)\n",
    "    \n",
    "# Plotting learning curve:\n",
    "plot_learning_curves(rand_X, rand_y, ml_pipe, 10)"
   ]
  },
  {
   "cell_type": "code",
   "execution_count": 78,
   "metadata": {},
   "outputs": [
    {
     "name": "stdout",
     "output_type": "stream",
     "text": [
      "AdaBoostClassifier\n",
      "ROC_AUC train score: 0.95\n",
      "ROC_AUC valid. score: 0.88\n"
     ]
    },
    {
     "data": {
      "image/png": "[encoded data removed]",
      "text/plain": [
       "<Figure size 1080x360 with 1 Axes>"
      ]
     },
     "metadata": {
      "needs_background": "light"
     },
     "output_type": "display_data"
    }
   ],
   "source": [
    "# AdaBoostClassifier\n",
    " \n",
    "# Print classifier's name:\n",
    "print('AdaBoostClassifier')\n",
    "    \n",
    "# Defining machine learning pipeline:\n",
    "ml_pipe = Pipeline(steps = [\n",
    "    ('preprocessing', preprocessing), \n",
    "    ('clf', AdaBoostClassifier())\n",
    "])\n",
    "    \n",
    "# Creating a randomized version of the train dataframe:\n",
    "df = cust_df[selected_cols].copy()\n",
    "rand_df = df.sample(frac = 1)\n",
    "    \n",
    "# Creating X_train and y_train objects:\n",
    "rand_y = rand_df['Response']\n",
    "rand_X = rand_df.drop(['Response'], axis = 1)\n",
    "    \n",
    "# Plotting learning curve:\n",
    "plot_learning_curves(rand_X, rand_y, ml_pipe, 10)"
   ]
  },
  {
   "cell_type": "code",
   "execution_count": 79,
   "metadata": {},
   "outputs": [
    {
     "name": "stdout",
     "output_type": "stream",
     "text": [
      "GradientBoostingClassifier\n",
      "ROC_AUC train score: 0.98\n",
      "ROC_AUC valid. score: 0.89\n"
     ]
    },
    {
     "data": {
      "image/png": "[encoded data removed]",
      "text/plain": [
       "<Figure size 1080x360 with 1 Axes>"
      ]
     },
     "metadata": {
      "needs_background": "light"
     },
     "output_type": "display_data"
    }
   ],
   "source": [
    "# GradientBoostingClassifier\n",
    " \n",
    "# Print classifier's name:\n",
    "print('GradientBoostingClassifier')\n",
    "    \n",
    "# Defining machine learning pipeline:\n",
    "ml_pipe = Pipeline(steps = [\n",
    "    ('preprocessing', preprocessing), \n",
    "    ('clf', GradientBoostingClassifier())\n",
    "])\n",
    "    \n",
    "# Creating a randomized version of the train dataframe:\n",
    "df = cust_df[selected_cols].copy()\n",
    "rand_df = df.sample(frac = 1)\n",
    "    \n",
    "# Creating X_train and y_train objects:\n",
    "rand_y = rand_df['Response']\n",
    "rand_X = rand_df.drop(['Response'], axis = 1)\n",
    "    \n",
    "# Plotting learning curve:\n",
    "plot_learning_curves(rand_X, rand_y, ml_pipe, 10)"
   ]
  },
  {
   "cell_type": "code",
   "execution_count": 80,
   "metadata": {},
   "outputs": [
    {
     "name": "stdout",
     "output_type": "stream",
     "text": [
      "CatBoostClassifier\n",
      "ROC_AUC train score: 1.00\n",
      "ROC_AUC valid. score: 0.89\n"
     ]
    },
    {
     "data": {
      "image/png": "[encoded data removed]",
      "text/plain": [
       "<Figure size 1080x360 with 1 Axes>"
      ]
     },
     "metadata": {
      "needs_background": "light"
     },
     "output_type": "display_data"
    }
   ],
   "source": [
    "# CatBoostClassifier\n",
    " \n",
    "# Print classifier's name:\n",
    "print('CatBoostClassifier')\n",
    "    \n",
    "# Defining machine learning pipeline:\n",
    "ml_pipe = Pipeline(steps = [\n",
    "    ('preprocessing', preprocessing_cat), \n",
    "    ('clf', CatBoostClassifier(verbose = 0))\n",
    "])\n",
    "    \n",
    "# Creating a randomized version of the train dataframe:\n",
    "df = cust_df[selected_cols].copy()\n",
    "rand_df = df.sample(frac = 1)\n",
    "    \n",
    "# Creating X_train and y_train objects:\n",
    "rand_y = rand_df['Response']\n",
    "rand_X = rand_df.drop(['Response'], axis = 1)\n",
    "    \n",
    "# Plotting learning curve:\n",
    "plot_learning_curves(rand_X, rand_y, ml_pipe, 10)"
   ]
  },
  {
   "cell_type": "markdown",
   "metadata": {},
   "source": [
    "We can see that most of the models show signs of **overfitting** when considering the **train score**\n",
    "\n",
    "On the other hand, we can see that the **validation learning curve keeps growing** while more data is added to the train set, indicating that the model is learning.\n",
    "\n",
    "Since the model that showed the **best validation score** was the **XGBClassifier**, we are going to refine it, looking for its best parameters' combination."
   ]
  },
  {
   "cell_type": "markdown",
   "metadata": {},
   "source": [
    "### 5.3 Training and Evaluating the Models<a name=\"traineval\"></a>\n",
    "\n",
    "For this task, data will be divided into train and test sets. The train set will be automatically divided into train and validation sets during the BayesSearchCV process.\n",
    "\n",
    "In this case, we are using a test set with 10% of the total data."
   ]
  },
  {
   "cell_type": "code",
   "execution_count": 81,
   "metadata": {},
   "outputs": [],
   "source": [
    "# Selecting data:\n",
    "df = cust_df[selected_cols]\n",
    "X = cust_df.drop(['Response'], axis = 1)\n",
    "y = cust_df['Response']\n",
    "\n",
    "# Defining test size:\n",
    "test_size = 0.1\n",
    "\n",
    "# Dividing data into train and test sets:\n",
    "X_train, X_test, y_train, y_test = train_test_split(X, y, \n",
    "                                                    test_size = test_size, \n",
    "                                                    random_state = 401)"
   ]
  },
  {
   "cell_type": "code",
   "execution_count": 82,
   "metadata": {
    "scrolled": false
   },
   "outputs": [
    {
     "name": "stdout",
     "output_type": "stream",
     "text": [
      "Best ROC_AUC Score:0.7032\n",
      "\n",
      "Best ROC_AUC Score:0.7032\n",
      "\n",
      "Best ROC_AUC Score:0.7032\n",
      "\n",
      "Best ROC_AUC Score:0.7100\n",
      "\n",
      "Best ROC_AUC Score:0.7100\n",
      "\n",
      "Best ROC_AUC Score:0.7100\n",
      "\n",
      "Best ROC_AUC Score:0.7100\n",
      "\n",
      "Best ROC_AUC Score:0.7100\n",
      "\n",
      "Best ROC_AUC Score:0.7100\n",
      "\n",
      "Best ROC_AUC Score:0.7100\n",
      "\n",
      "Best ROC_AUC Score:0.7895\n",
      "\n",
      "Best ROC_AUC Score:0.8888\n",
      "\n",
      "Best ROC_AUC Score:0.8888\n",
      "\n",
      "Best ROC_AUC Score:0.8888\n",
      "\n",
      "Best ROC_AUC Score:0.8888\n",
      "\n",
      "Best ROC_AUC Score:0.8888\n",
      "\n",
      "Best ROC_AUC Score:0.8888\n",
      "\n",
      "Best ROC_AUC Score:0.8894\n",
      "\n",
      "Best ROC_AUC Score:0.8894\n",
      "\n",
      "Best ROC_AUC Score:0.8894\n",
      "\n",
      "Best ROC_AUC Score:0.8894\n",
      "\n",
      "Best ROC_AUC Score:0.8894\n",
      "\n",
      "Best ROC_AUC Score:0.8894\n",
      "\n",
      "Best ROC_AUC Score:0.8894\n",
      "\n",
      "Best ROC_AUC Score:0.8894\n",
      "\n",
      "Best ROC_AUC Score:0.8927\n",
      "\n",
      "Best ROC_AUC Score:0.8927\n",
      "\n",
      "Best ROC_AUC Score:0.8927\n",
      "\n",
      "Best ROC_AUC Score:0.9004\n",
      "\n",
      "Best ROC_AUC Score:0.9004\n",
      "\n",
      "Best ROC_AUC Score:0.9004\n",
      "\n",
      "Best ROC_AUC Score:0.9004\n",
      "\n",
      "Best ROC_AUC Score:0.9004\n",
      "\n",
      "Best ROC_AUC Score:0.9004\n",
      "\n",
      "Best ROC_AUC Score:0.9004\n",
      "\n",
      "Best ROC_AUC Score:0.9004\n",
      "\n",
      "Best ROC_AUC Score:0.9004\n",
      "\n",
      "Best ROC_AUC Score:0.9004\n",
      "\n",
      "Best ROC_AUC Score:0.9004\n",
      "\n",
      "Best ROC_AUC Score:0.9004\n",
      "\n",
      "Best ROC_AUC Score:0.9004\n",
      "\n",
      "Best ROC_AUC Score:0.9004\n",
      "\n",
      "Best ROC_AUC Score:0.9004\n",
      "\n",
      "Best ROC_AUC Score:0.9004\n",
      "\n",
      "Best ROC_AUC Score:0.9004\n",
      "\n",
      "Best ROC_AUC Score:0.9004\n",
      "\n",
      "Best ROC_AUC Score:0.9004\n",
      "\n",
      "Best ROC_AUC Score:0.9004\n",
      "\n",
      "Best ROC_AUC Score:0.9004\n",
      "\n",
      "Best ROC_AUC Score:0.9004\n",
      "\n"
     ]
    },
    {
     "data": {
      "text/plain": [
       "BayesSearchCV(cv=5,\n",
       "              estimator=Pipeline(steps=[('preprocessing',\n",
       "                                         ColumnTransformer(transformers=[('cat',\n",
       "                                                                          Pipeline(steps=[('encoder',\n",
       "                                                                                           OneHotEncoder(handle_unknown='ignore'))]),\n",
       "                                                                          ['Age_Group',\n",
       "                                                                           'Education',\n",
       "                                                                           'Income_Group',\n",
       "                                                                           'Marital_Status']),\n",
       "                                                                         ('num',\n",
       "                                                                          Pipeline(steps=[('scaler',\n",
       "                                                                                           StandardScaler())]),\n",
       "                                                                          ['Kidhome',\n",
       "                                                                           'Recency',\n",
       "                                                                           'Teenhome',\n",
       "                                                                           'avg_FishProds_per_month',\n",
       "                                                                           'avg_MeatP...\n",
       "                             'clf__max_depth': Integer(low=2, high=10, prior='uniform', transform='identity'),\n",
       "                             'clf__min_child_weight': Integer(low=0, high=10, prior='uniform', transform='identity'),\n",
       "                             'clf__reg_alpha': Integer(low=0, high=100, prior='uniform', transform='identity'),\n",
       "                             'clf__reg_lambda': Integer(low=1, high=100, prior='uniform', transform='identity'),\n",
       "                             'clf__tree_method': Categorical(categories=('auto', 'hist'), prior=None)})"
      ]
     },
     "execution_count": 82,
     "metadata": {},
     "output_type": "execute_result"
    }
   ],
   "source": [
    "# Defining machine learning pipeline:\n",
    "xgb_ml_pipe = Pipeline(steps = [\n",
    "    ('preprocessing', preprocessing), \n",
    "    ('clf', XGBClassifier(random_state = 403))\n",
    "])\n",
    "\n",
    "# Setting parameters to be tested:\n",
    "xgb_params = {'clf__booster': Categorical(['gbtree', 'dart']), \n",
    "              'clf__learning_rate': Real(0.01, 0.3), \n",
    "              'clf__gamma': Integer(0, 100), \n",
    "              'clf__min_child_weight': Integer(0, 10),\n",
    "              'clf__reg_lambda': Integer(1, 100), \n",
    "              'clf__reg_alpha': Integer(0, 100), \n",
    "              'clf__tree_method': Categorical(['auto', 'hist']),\n",
    "              'clf__max_depth': Integer(2, 10)\n",
    "             }\n",
    "\n",
    "# Defining function to display scores:\n",
    "def show_score(optim_result):\n",
    "    '''\n",
    "    It shows iteration scores during Bayesian Optimization\n",
    "    '''\n",
    "    # Computing score:\n",
    "    score = xgb_clf.best_score_\n",
    "    print('Best ROC_AUC Score:{:.4f}\\n'.format(score))\n",
    "    \n",
    "    # Early stop:\n",
    "    if score >= 0.92:\n",
    "        print('0.92 ROC_AUC score achieved!')\n",
    "        \n",
    "        return True\n",
    "\n",
    "# BayesSearchCV + ML pipleine:\n",
    "xgb_clf = BayesSearchCV(xgb_ml_pipe, xgb_params, scoring = 'roc_auc', cv = 5, verbose = 0, random_state = 403)\n",
    "\n",
    "# Training model:\n",
    "xgb_clf.fit(X_train, y_train, callback = show_score)"
   ]
  },
  {
   "cell_type": "code",
   "execution_count": 83,
   "metadata": {},
   "outputs": [
    {
     "data": {
      "image/png": "[encoded data removed]",
      "text/plain": [
       "<Figure size 504x360 with 2 Axes>"
      ]
     },
     "metadata": {
      "needs_background": "light"
     },
     "output_type": "display_data"
    }
   ],
   "source": [
    "# Evaluating the model on test set:\n",
    "fig, ax = plt.subplots(nrows = 1, ncols = 1, figsize = (7, 5))\n",
    "\n",
    "class_names = ['No', 'Yes']\n",
    "\n",
    "plot_confusion_matrix(xgb_clf, X_test, y_test, display_labels = class_names, cmap = plt.cm.PuBu,\n",
    "                      normalize = 'true', ax = ax)\n",
    "ax.set_title('Confusion Matrix \\nXGBClassifier')\n",
    "\n",
    "# Saving figure:\n",
    "fig.savefig('plots\\plot13.png')\n",
    "\n",
    "fig.show()"
   ]
  },
  {
   "cell_type": "markdown",
   "metadata": {},
   "source": [
    "This model does a good job when identifying customers that are not likely to respond to the campaign, but it performs poorly when it comes to identifying the customers that are likely to respond to the campaign (it identified about 30% of these customers).\n",
    "\n",
    "Even with this consideration, the model could already be **helpful** while targeting the clients. Instead of using the final predicted label, the company could use the **predicted probability**, selecting clients related to a specific **threshold** probability to respond to the campaign.\n",
    "\n",
    "However, let's try to improve this model using the **SMOTE** technique to create a few synthetic data to deal with the imbalance shown in the data labels."
   ]
  },
  {
   "cell_type": "code",
   "execution_count": 84,
   "metadata": {
    "scrolled": false
   },
   "outputs": [
    {
     "name": "stdout",
     "output_type": "stream",
     "text": [
      "Best ROC_AUC Score:0.8096\n",
      "\n",
      "Best ROC_AUC Score:0.8096\n",
      "\n",
      "Best ROC_AUC Score:0.8096\n",
      "\n",
      "Best ROC_AUC Score:0.8239\n",
      "\n",
      "Best ROC_AUC Score:0.8239\n",
      "\n",
      "Best ROC_AUC Score:0.8239\n",
      "\n",
      "Best ROC_AUC Score:0.8239\n",
      "\n",
      "Best ROC_AUC Score:0.8257\n",
      "\n",
      "Best ROC_AUC Score:0.8257\n",
      "\n",
      "Best ROC_AUC Score:0.8257\n",
      "\n",
      "Best ROC_AUC Score:0.8257\n",
      "\n",
      "Best ROC_AUC Score:0.8257\n",
      "\n",
      "Best ROC_AUC Score:0.8257\n",
      "\n",
      "Best ROC_AUC Score:0.8257\n",
      "\n",
      "Best ROC_AUC Score:0.8257\n",
      "\n",
      "Best ROC_AUC Score:0.8257\n",
      "\n",
      "Best ROC_AUC Score:0.8379\n",
      "\n",
      "Best ROC_AUC Score:0.8379\n",
      "\n",
      "Best ROC_AUC Score:0.8379\n",
      "\n",
      "Best ROC_AUC Score:0.8379\n",
      "\n",
      "Best ROC_AUC Score:0.8833\n",
      "\n",
      "Best ROC_AUC Score:0.8833\n",
      "\n",
      "Best ROC_AUC Score:0.8877\n",
      "\n",
      "Best ROC_AUC Score:0.8914\n",
      "\n",
      "Best ROC_AUC Score:0.8914\n",
      "\n",
      "Best ROC_AUC Score:0.8914\n",
      "\n",
      "Best ROC_AUC Score:0.8945\n",
      "\n",
      "Best ROC_AUC Score:0.8945\n",
      "\n",
      "Best ROC_AUC Score:0.8945\n",
      "\n",
      "Best ROC_AUC Score:0.8945\n",
      "\n",
      "Best ROC_AUC Score:0.8945\n",
      "\n",
      "Best ROC_AUC Score:0.8945\n",
      "\n",
      "Best ROC_AUC Score:0.8945\n",
      "\n",
      "Best ROC_AUC Score:0.8945\n",
      "\n",
      "Best ROC_AUC Score:0.8945\n",
      "\n",
      "Best ROC_AUC Score:0.8945\n",
      "\n",
      "Best ROC_AUC Score:0.8945\n",
      "\n",
      "Best ROC_AUC Score:0.8945\n",
      "\n",
      "Best ROC_AUC Score:0.8945\n",
      "\n",
      "Best ROC_AUC Score:0.8945\n",
      "\n",
      "Best ROC_AUC Score:0.8945\n",
      "\n",
      "Best ROC_AUC Score:0.8945\n",
      "\n",
      "Best ROC_AUC Score:0.8945\n",
      "\n",
      "Best ROC_AUC Score:0.8945\n",
      "\n",
      "Best ROC_AUC Score:0.8945\n",
      "\n",
      "Best ROC_AUC Score:0.8945\n",
      "\n",
      "Best ROC_AUC Score:0.8945\n",
      "\n",
      "Best ROC_AUC Score:0.8945\n",
      "\n",
      "Best ROC_AUC Score:0.8945\n",
      "\n",
      "Best ROC_AUC Score:0.8945\n",
      "\n"
     ]
    },
    {
     "data": {
      "text/plain": [
       "BayesSearchCV(cv=5,\n",
       "              estimator=Pipeline(steps=[('preprocessing',\n",
       "                                         ColumnTransformer(transformers=[('cat',\n",
       "                                                                          Pipeline(steps=[('encoder',\n",
       "                                                                                           OneHotEncoder(handle_unknown='ignore'))]),\n",
       "                                                                          ['Age_Group',\n",
       "                                                                           'Education',\n",
       "                                                                           'Income_Group',\n",
       "                                                                           'Marital_Status']),\n",
       "                                                                         ('num',\n",
       "                                                                          Pipeline(steps=[('scaler',\n",
       "                                                                                           StandardScaler())]),\n",
       "                                                                          ['Kidhome',\n",
       "                                                                           'Recency',\n",
       "                                                                           'Teenhome',\n",
       "                                                                           'avg_FishProds_per_month',\n",
       "                                                                           'avg_MeatP...\n",
       "                             'clf__min_child_weight': Integer(low=0, high=10, prior='uniform', transform='identity'),\n",
       "                             'clf__reg_alpha': Integer(low=0, high=100, prior='uniform', transform='identity'),\n",
       "                             'clf__reg_lambda': Integer(low=1, high=100, prior='uniform', transform='identity'),\n",
       "                             'clf__tree_method': Categorical(categories=('auto', 'hist'), prior=None),\n",
       "                             'smote__sampling_strategy': Real(low=0.25, high=1, prior='uniform', transform='identity')})"
      ]
     },
     "execution_count": 84,
     "metadata": {},
     "output_type": "execute_result"
    }
   ],
   "source": [
    "# Defining machine learning pipeline:\n",
    "xgb_smote_ml_pipe = Pipeline_imb(steps = [\n",
    "    ('preprocessing', preprocessing),\n",
    "    ('smote', SMOTE(random_state = 403)),\n",
    "    ('clf', XGBClassifier(random_state = 403))\n",
    "])\n",
    "\n",
    "# Setting parameters to be tested:\n",
    "xgb_smote_params = {'smote__sampling_strategy': Real(.25, 1), \n",
    "                    'clf__booster': Categorical(['gbtree', 'dart']), \n",
    "                    'clf__learning_rate': Real(0.01, 0.3), \n",
    "                    'clf__gamma': Integer(0, 100), \n",
    "                    'clf__min_child_weight': Integer(0, 10),\n",
    "                    'clf__reg_lambda': Integer(1, 100), \n",
    "                    'clf__reg_alpha': Integer(0, 100), \n",
    "                    'clf__tree_method': Categorical(['auto', 'hist']), \n",
    "                    'clf__max_depth': Integer(2, 10)\n",
    "                   }\n",
    "\n",
    "# Defining function to display scores:\n",
    "def show_score(optim_result):\n",
    "    '''\n",
    "    It shows iteration scores during Bayesian Optimization\n",
    "    '''\n",
    "    # Computing score:\n",
    "    score = xgb_smote_clf.best_score_\n",
    "    print('Best ROC_AUC Score:{:.4f}\\n'.format(score))\n",
    "    \n",
    "    # Early stop:\n",
    "    if score >= 0.92:\n",
    "        print('0.92 ROC_AUC score achieved!')\n",
    "        \n",
    "        return True\n",
    "\n",
    "# BayesSearchCV + ML pipleine:\n",
    "xgb_smote_clf = BayesSearchCV(xgb_smote_ml_pipe, xgb_smote_params, scoring = 'roc_auc', cv = 5, verbose = 0, random_state = 404)\n",
    "\n",
    "# Training model:\n",
    "xgb_smote_clf.fit(X_train, y_train, callback = show_score)"
   ]
  },
  {
   "cell_type": "code",
   "execution_count": 85,
   "metadata": {},
   "outputs": [
    {
     "data": {
      "image/png": "[encoded data removed]",
      "text/plain": [
       "<Figure size 504x360 with 2 Axes>"
      ]
     },
     "metadata": {
      "needs_background": "light"
     },
     "output_type": "display_data"
    }
   ],
   "source": [
    "# Evaluating the model on test set:\n",
    "fig, ax = plt.subplots(nrows = 1, ncols = 1, figsize = (7, 5))\n",
    "\n",
    "plot_confusion_matrix(xgb_smote_clf, X_test, y_test, display_labels = class_names, cmap = plt.cm.PuBu,\n",
    "                      normalize = 'true', ax = ax)\n",
    "ax.set_title('Confusion Matrix \\nXGBClassifier with SMOTE')\n",
    "\n",
    "# Saving figure:\n",
    "fig.savefig('plots\\plot14.png')\n",
    "\n",
    "fig.show()"
   ]
  },
  {
   "cell_type": "markdown",
   "metadata": {},
   "source": [
    "Using the **SMOTE** technique, we could improve the percentage of identified customers that responded to the marketing campaign: about 40% of them were correctly targeted.\n",
    "\n",
    "However, we had a decrease in the percentage of identified clients that didn't respond to the campaign: 96% of them were correctly classified, against 97% from the previous model.  "
   ]
  },
  {
   "cell_type": "markdown",
   "metadata": {},
   "source": [
    "### 5.4 Feature Importance<a name=\"featimp\"></a>\n",
    "\n",
    "Using these classifiers, we can check the features that are more important to differ customers that are responsive to the campaign from the ones that are not."
   ]
  },
  {
   "cell_type": "code",
   "execution_count": 86,
   "metadata": {},
   "outputs": [
    {
     "data": {
      "text/plain": [
       "['Age_Group_30-39',\n",
       " 'Age_Group_40-49',\n",
       " 'Age_Group_50-59',\n",
       " 'Age_Group_<30',\n",
       " 'Age_Group_>=60',\n",
       " 'Education_2n Cycle',\n",
       " 'Education_Basic',\n",
       " 'Education_Graduation',\n",
       " 'Education_Master',\n",
       " 'Education_PhD',\n",
       " 'Income_Group_20.000-29.999',\n",
       " 'Income_Group_30.000-39.999',\n",
       " 'Income_Group_40.000-49.999',\n",
       " 'Income_Group_50.000-59.999',\n",
       " 'Income_Group_60.000-69.999',\n",
       " 'Income_Group_70.000-79.999',\n",
       " 'Income_Group_<20.000',\n",
       " 'Income_Group_>=80.000',\n",
       " 'Marital_Status_Absurd',\n",
       " 'Marital_Status_Alone',\n",
       " 'Marital_Status_Divorced',\n",
       " 'Marital_Status_Married',\n",
       " 'Marital_Status_Single',\n",
       " 'Marital_Status_Together',\n",
       " 'Marital_Status_Widow',\n",
       " 'Marital_Status_YOLO']"
      ]
     },
     "execution_count": 86,
     "metadata": {},
     "output_type": "execute_result"
    }
   ],
   "source": [
    "# Extracting feature names from encoder transformer:\n",
    "cat_col_names = list(xgb_smote_clf.best_estimator_.named_steps['preprocessing'].transformers_[0][1].named_steps['encoder']\\\n",
    ".get_feature_names(cat_feat))\n",
    "\n",
    "cat_col_names"
   ]
  },
  {
   "cell_type": "code",
   "execution_count": 87,
   "metadata": {},
   "outputs": [],
   "source": [
    "# Joining categorical and numerical column names:\n",
    "final_cols = cat_col_names + num_feat"
   ]
  },
  {
   "cell_type": "code",
   "execution_count": 88,
   "metadata": {
    "scrolled": false
   },
   "outputs": [
    {
     "data": {
      "image/png": "[encoded data removed]",
      "text/plain": [
       "<Figure size 936x720 with 1 Axes>"
      ]
     },
     "metadata": {
      "needs_background": "light"
     },
     "output_type": "display_data"
    }
   ],
   "source": [
    "# Extracting best xgboost estimator:\n",
    "xgb = xgb_smote_clf.best_estimator_.named_steps['clf']\n",
    "\n",
    "# Designaiting column names:\n",
    "xgb.get_booster().feature_names = final_cols\n",
    "\n",
    "# Plotting Feature Importance:\n",
    "fig, ax = plt.subplots(nrows = 1, ncols = 1, figsize = (13, 10))\n",
    "\n",
    "plot_importance(xgb, height = .5, ax = ax)\n",
    "\n",
    "# Saving figure:\n",
    "fig.savefig('plots\\plot15.png')\n",
    "\n",
    "fig.show()"
   ]
  },
  {
   "cell_type": "markdown",
   "metadata": {},
   "source": [
    "When considering the **feature importance**, we can see that **behavioral purchasing characteristics** such as *average monthly amount spent on products* and the *channels used to make the purchases* are more important to differentiate the two types of customers than **personal information** such as *household incomes* and *marital status*."
   ]
  },
  {
   "cell_type": "markdown",
   "metadata": {},
   "source": [
    "### 5.5 Second Attempt: GradientBoostingClassifier<a name=\"2ndattempt\"></a>"
   ]
  },
  {
   "cell_type": "code",
   "execution_count": 89,
   "metadata": {
    "scrolled": false
   },
   "outputs": [
    {
     "name": "stdout",
     "output_type": "stream",
     "text": [
      "Best ROC_AUC Score:0.8783\n",
      "\n",
      "Best ROC_AUC Score:0.8787\n",
      "\n",
      "Best ROC_AUC Score:0.8801\n",
      "\n",
      "Best ROC_AUC Score:0.8925\n",
      "\n",
      "Best ROC_AUC Score:0.8948\n",
      "\n",
      "Best ROC_AUC Score:0.8948\n",
      "\n",
      "Best ROC_AUC Score:0.8948\n",
      "\n",
      "Best ROC_AUC Score:0.8948\n",
      "\n",
      "Best ROC_AUC Score:0.8948\n",
      "\n",
      "Best ROC_AUC Score:0.8948\n",
      "\n",
      "Best ROC_AUC Score:0.8965\n",
      "\n",
      "Best ROC_AUC Score:0.8965\n",
      "\n",
      "Best ROC_AUC Score:0.8965\n",
      "\n",
      "Best ROC_AUC Score:0.9011\n",
      "\n",
      "Best ROC_AUC Score:0.9011\n",
      "\n",
      "Best ROC_AUC Score:0.9011\n",
      "\n",
      "Best ROC_AUC Score:0.9011\n",
      "\n",
      "Best ROC_AUC Score:0.9011\n",
      "\n",
      "Best ROC_AUC Score:0.9011\n",
      "\n",
      "Best ROC_AUC Score:0.9011\n",
      "\n",
      "Best ROC_AUC Score:0.9011\n",
      "\n",
      "Best ROC_AUC Score:0.9011\n",
      "\n",
      "Best ROC_AUC Score:0.9011\n",
      "\n",
      "Best ROC_AUC Score:0.9011\n",
      "\n",
      "Best ROC_AUC Score:0.9011\n",
      "\n",
      "Best ROC_AUC Score:0.9011\n",
      "\n",
      "Best ROC_AUC Score:0.9011\n",
      "\n",
      "Best ROC_AUC Score:0.9011\n",
      "\n",
      "Best ROC_AUC Score:0.9011\n",
      "\n",
      "Best ROC_AUC Score:0.9011\n",
      "\n",
      "Best ROC_AUC Score:0.9011\n",
      "\n",
      "Best ROC_AUC Score:0.9011\n",
      "\n",
      "Best ROC_AUC Score:0.9011\n",
      "\n",
      "Best ROC_AUC Score:0.9011\n",
      "\n",
      "Best ROC_AUC Score:0.9011\n",
      "\n",
      "Best ROC_AUC Score:0.9011\n",
      "\n",
      "Best ROC_AUC Score:0.9011\n",
      "\n",
      "Best ROC_AUC Score:0.9011\n",
      "\n",
      "Best ROC_AUC Score:0.9011\n",
      "\n",
      "Best ROC_AUC Score:0.9011\n",
      "\n",
      "Best ROC_AUC Score:0.9011\n",
      "\n",
      "Best ROC_AUC Score:0.9011\n",
      "\n",
      "Best ROC_AUC Score:0.9011\n",
      "\n",
      "Best ROC_AUC Score:0.9011\n",
      "\n",
      "Best ROC_AUC Score:0.9011\n",
      "\n",
      "Best ROC_AUC Score:0.9011\n",
      "\n",
      "Best ROC_AUC Score:0.9011\n",
      "\n",
      "Best ROC_AUC Score:0.9011\n",
      "\n",
      "Best ROC_AUC Score:0.9011\n",
      "\n",
      "Best ROC_AUC Score:0.9011\n",
      "\n"
     ]
    },
    {
     "data": {
      "text/plain": [
       "BayesSearchCV(cv=5,\n",
       "              estimator=Pipeline(steps=[('preprocessing',\n",
       "                                         ColumnTransformer(transformers=[('cat',\n",
       "                                                                          Pipeline(steps=[('encoder',\n",
       "                                                                                           OneHotEncoder(handle_unknown='ignore'))]),\n",
       "                                                                          ['Age_Group',\n",
       "                                                                           'Education',\n",
       "                                                                           'Income_Group',\n",
       "                                                                           'Marital_Status']),\n",
       "                                                                         ('num',\n",
       "                                                                          Pipeline(steps=[('scaler',\n",
       "                                                                                           StandardScaler())]),\n",
       "                                                                          ['Kidhome',\n",
       "                                                                           'Recency',\n",
       "                                                                           'Teenhome',\n",
       "                                                                           'avg_FishProds_per_month',\n",
       "                                                                           'avg_MeatP...\n",
       "                             'clf__max_depth': Integer(low=3, high=10, prior='uniform', transform='identity'),\n",
       "                             'clf__min_samples_leaf': Integer(low=1, high=5, prior='uniform', transform='identity'),\n",
       "                             'clf__min_samples_split': Integer(low=2, high=10, prior='uniform', transform='identity'),\n",
       "                             'clf__n_estimators': Integer(low=100, high=500, prior='uniform', transform='identity'),\n",
       "                             'smote__sampling_strategy': Real(low=0.25, high=1, prior='uniform', transform='identity')})"
      ]
     },
     "execution_count": 89,
     "metadata": {},
     "output_type": "execute_result"
    }
   ],
   "source": [
    "# Defining machine learning pipeline:\n",
    "gbc_smote_ml_pipe = Pipeline_imb(steps = [\n",
    "    ('preprocessing', preprocessing),\n",
    "    ('smote', SMOTE(random_state = 405)),\n",
    "    ('clf', GradientBoostingClassifier(max_features = 'auto', random_state = 405))\n",
    "])\n",
    "\n",
    "# Setting parameters to be tested:\n",
    "gbc_smote_params = {'smote__sampling_strategy': Real(.25, 1), \n",
    "                    'clf__loss': Categorical(['deviance', 'exponential']), \n",
    "                    'clf__learning_rate': Real(0.01, 0.3), \n",
    "                    'clf__n_estimators': Integer(100, 500), \n",
    "                    'clf__min_samples_split': Integer(2, 10),\n",
    "                    'clf__min_samples_leaf': Integer(1, 5), \n",
    "                    'clf__max_depth': Integer(3, 10)\n",
    "                   }\n",
    "\n",
    "# Defining function to display scores:\n",
    "def show_score(optim_result):\n",
    "    '''\n",
    "    It shows iteration scores during Bayesian Optimization\n",
    "    '''\n",
    "    # Computing score:\n",
    "    score = gbc_smote_clf.best_score_\n",
    "    print('Best ROC_AUC Score:{:.4f}\\n'.format(score))\n",
    "    \n",
    "    # Early stop:\n",
    "    if score >= 0.92:\n",
    "        print('0.92 ROC_AUC score achieved!')\n",
    "        \n",
    "        return True\n",
    "\n",
    "# BayesSearchCV + ML pipleine:\n",
    "gbc_smote_clf = BayesSearchCV(gbc_smote_ml_pipe, gbc_smote_params, scoring = 'roc_auc', cv = 5, verbose = 0, random_state = 405)\n",
    "\n",
    "# Training model:\n",
    "gbc_smote_clf.fit(X_train, y_train, callback = show_score)"
   ]
  },
  {
   "cell_type": "code",
   "execution_count": 90,
   "metadata": {},
   "outputs": [
    {
     "data": {
      "image/png": "[encoded data removed]",
      "text/plain": [
       "<Figure size 504x360 with 2 Axes>"
      ]
     },
     "metadata": {
      "needs_background": "light"
     },
     "output_type": "display_data"
    }
   ],
   "source": [
    "# Evaluating the model on test set:\n",
    "fig, ax = plt.subplots(nrows = 1, ncols = 1, figsize = (7, 5))\n",
    "\n",
    "plot_confusion_matrix(gbc_smote_clf, X_test, y_test, display_labels = class_names, cmap = plt.cm.PuBu,\n",
    "                      normalize = 'true', ax = ax)\n",
    "ax.set_title('Confusion Matrix \\nGradientBoostingClassifier with SMOTE')\n",
    "\n",
    "# Saving figure:\n",
    "fig.savefig('plots\\plot16.png')\n",
    "\n",
    "fig.show()"
   ]
  },
  {
   "cell_type": "markdown",
   "metadata": {},
   "source": [
    "Overall, this was the best model: it increased the correct identification of clients that responded to the campaign (52% of them were correctly identified), and although we had a decrease in the correct identification of clients that didn't respond to the campaign (95% against 96% and 97% from the previous models), it's still a good score.\n",
    "\n",
    "The strategy to increase the profit generated by this campaign would be:\n",
    "* run this model on the overall client base;\n",
    "* define an accepted threshold probability for the client to be responsive to the campaign;\n",
    "* make the offer to those who surpass the threshold probability.\n",
    "\n",
    "Since the campaign costs 3MU per customer and each client who accepts the offer generates 11MU of profit, excluding customers that are not likely to respond to the campaign will optimize the overall campaign profit."
   ]
  },
  {
   "cell_type": "markdown",
   "metadata": {},
   "source": [
    "## 6. Recommendations<a name=\"recomm\"></a>"
   ]
  },
  {
   "cell_type": "markdown",
   "metadata": {},
   "source": [
    "After this analysis, there are a few recommendations that the company could apply to improve its performance:"
   ]
  },
  {
   "cell_type": "markdown",
   "metadata": {},
   "source": [
    "### 6.1 Mobile App<a name=\"recomm1\"></a>\n",
    "\n",
    "Building a mobile app could be a simple way to easily connect to its customers.\n",
    "\n",
    "Marketing campaigns could be sent to the clients through push-up notifications, with the potential of reaching out to the customers at a faster pace.\n",
    "\n",
    "Also, promotions and discounts could be announced through the app, encouraging customers to download the company's app, boosting this communication channel."
   ]
  },
  {
   "cell_type": "markdown",
   "metadata": {},
   "source": [
    "### 6.2 Loyalty Program<a name=\"recomm2\"></a>\n",
    "\n",
    "From the cluster analysis, we could see that the customers related to higher monthly amounts spent on the products represent the minority of the clients.\n",
    "\n",
    "With that in mind, to encourage the other profiles to buy more products with a higher frequency, the company could develop a *Loyalty Program*, establishing a few advantages such as:\n",
    "* if the customer achieves some monthly purchases or a certain monthly amount spent on the products, it will be offered a special discount on the next purchase;\n",
    "* the more they buy, the higher the discount offered;\n",
    "* customers who achieve a certain amount spent on products each month will compete for a ticket to be spent on any products over one month."
   ]
  }
 ],
 "metadata": {
  "kernelspec": {
   "display_name": "Python 3",
   "language": "python",
   "name": "python3"
  },
  "language_info": {
   "codemirror_mode": {
    "name": "ipython",
    "version": 3
   },
   "file_extension": ".py",
   "mimetype": "text/x-python",
   "name": "python",
   "nbconvert_exporter": "python",
   "pygments_lexer": "ipython3",
   "version": "3.7.9"
  }
 },
 "nbformat": 4,
 "nbformat_minor": 4
}
